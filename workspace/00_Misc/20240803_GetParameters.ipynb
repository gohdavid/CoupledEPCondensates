{
 "cells": [
  {
   "cell_type": "code",
   "execution_count": 17,
   "metadata": {},
   "outputs": [],
   "source": [
    "flow_keys = [\n",
    "    \"c_bar_1\",\n",
    "    \"beta_tilde\",\n",
    "    \"gamma_tilde\",\n",
    "    \"kappa_tilde\",\n",
    "    \"lamda_tilde\",\n",
    "    \"M1\",\n",
    "    \"M2\",\n",
    "    \"k_production\",\n",
    "    \"k_degradation\",\n",
    "    \"reaction_sigma\",\n",
    "    \"reaction_center\",\n",
    "    \"initial_values\",\n",
    "    \"nucleate_seed\",\n",
    "    \"nucleus_size\",\n",
    "    \"location\",\n",
    "    \"chiPR_tilde\",\n",
    "    \"dt_max\",\n",
    "]"
   ]
  },
  {
   "cell_type": "code",
   "execution_count": 2,
   "metadata": {},
   "outputs": [],
   "source": [
    "from utils.file_operations import input_parse"
   ]
  },
  {
   "cell_type": "code",
   "execution_count": 3,
   "metadata": {},
   "outputs": [],
   "source": [
    "params = input_parse(\"/nfs/arupclab001/davidgoh/CoupledEPCondensates/workspace/01_Flow/20240224_FlowPhaseDiagramHighRes/M1_1.0_b_-0.25_g_-0.1_c_0.0_k_0.05_kp_0.1_c1_3.53_sw_1.0_sr_2.5_cn_5.5_l_10_M3_0.1_kt_0.0_rl_0.0_wd_0.0_t_0.0_kd_1.0/input_params.txt\")"
   ]
  },
  {
   "cell_type": "code",
   "execution_count": 10,
   "metadata": {},
   "outputs": [],
   "source": [
    "params[\"c_bar\"] = params[\"c_bar_1\"]\n",
    "for key, value in list(params.items()):\n",
    "    if \"tilde\" in key:\n",
    "        params[key[:-6]] = value"
   ]
  },
  {
   "cell_type": "code",
   "execution_count": 24,
   "metadata": {},
   "outputs": [
    {
     "data": {
      "text/plain": [
       "{'c_bar': 4.0,\n",
       " 'beta': -0.25,\n",
       " 'gamma': -0.1,\n",
       " 'kappa': 0.05,\n",
       " 'lamda': 1.0,\n",
       " 'M1': 1.0,\n",
       " 'M2': 1.0,\n",
       " 'k_production': 0.1,\n",
       " 'k_degradation': 1.0,\n",
       " 'reaction_sigma': 2.5,\n",
       " 'reaction_center': (0.0, 0.0),\n",
       " 'initial_values': (3.53, 0.0),\n",
       " 'nucleate_seed': (1, 0),\n",
       " 'nucleus_size': (2.0, 0.0),\n",
       " 'location': ((10, 0), (0, 0)),\n",
       " 'chiPR_tilde': 0.0,\n",
       " 'dt_max': 1.0}"
      ]
     },
     "execution_count": 24,
     "metadata": {},
     "output_type": "execute_result"
    }
   ],
   "source": [
    "new_dict = {\n",
    "    'c_bar': params['c_bar_1'],\n",
    "    'beta': params['beta_tilde'],\n",
    "    'gamma': params['gamma_tilde'],\n",
    "    'kappa': params['kappa_tilde'],\n",
    "    'lamda': params['lamda_tilde'],\n",
    "    'M1': params['M1'],\n",
    "    'M2': params['M2'],\n",
    "    'k_production': params['k_production'],\n",
    "    'k_degradation': params['k_degradation'],\n",
    "    'reaction_sigma': params['reaction_sigma'],\n",
    "    'reaction_center': params['reaction_center'],\n",
    "    'initial_values': params['initial_values'],\n",
    "    'nucleate_seed': params['nucleate_seed'],\n",
    "    'nucleus_size': params['nucleus_size'],\n",
    "    'location': params['location'],\n",
    "    'chiPR_tilde': params['chiPR_tilde'],\n",
    "    'dt_max': params['dt_max']\n",
    "}\n",
    "\n",
    "new_dict"
   ]
  }
 ],
 "metadata": {
  "kernelspec": {
   "display_name": "CoupledEPCondensates",
   "language": "python",
   "name": "python3"
  },
  "language_info": {
   "codemirror_mode": {
    "name": "ipython",
    "version": 3
   },
   "file_extension": ".py",
   "mimetype": "text/x-python",
   "name": "python",
   "nbconvert_exporter": "python",
   "pygments_lexer": "ipython3",
   "version": "3.10.13"
  }
 },
 "nbformat": 4,
 "nbformat_minor": 2
}
