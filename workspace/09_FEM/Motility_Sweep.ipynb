{
 "cells": [
  {
   "cell_type": "code",
   "execution_count": 1,
   "id": "8697fbb6-a57d-43f7-83e8-80afc9eee040",
   "metadata": {},
   "outputs": [
    {
     "name": "stderr",
     "output_type": "stream",
     "text": [
      "INFO:root:running build_ext\n",
      "INFO:root:building 'libffcx_forms_40931fafd13b9ebb7ca7c8baec04b6a0783fc1c9' extension\n",
      "INFO:root:clang -Wno-unused-result -Wsign-compare -Wunreachable-code -DNDEBUG -fwrapv -O2 -Wall -fPIC -O2 -isystem /opt/homebrew/Caskroom/miniconda/base/envs/research/include -arch arm64 -fPIC -O2 -isystem /opt/homebrew/Caskroom/miniconda/base/envs/research/include -arch arm64 -I/opt/homebrew/Caskroom/miniconda/base/envs/research/lib/python3.10/site-packages/ffcx/codegeneration -I/opt/homebrew/Caskroom/miniconda/base/envs/research/include/python3.10 -c libffcx_forms_40931fafd13b9ebb7ca7c8baec04b6a0783fc1c9.c -o ./libffcx_forms_40931fafd13b9ebb7ca7c8baec04b6a0783fc1c9.o -O3\n",
      "INFO:root:clang -bundle -undefined dynamic_lookup -Wl,-rpath,/opt/homebrew/Caskroom/miniconda/base/envs/research/lib -L/opt/homebrew/Caskroom/miniconda/base/envs/research/lib -Wl,-rpath,/opt/homebrew/Caskroom/miniconda/base/envs/research/lib -L/opt/homebrew/Caskroom/miniconda/base/envs/research/lib ./libffcx_forms_40931fafd13b9ebb7ca7c8baec04b6a0783fc1c9.o -lm -o ./libffcx_forms_40931fafd13b9ebb7ca7c8baec04b6a0783fc1c9.cpython-310-darwin.so\n",
      "INFO:root:running build_ext\n",
      "INFO:root:building 'libffcx_forms_5e7f534940411fd1462a6af656db03a5290d1455' extension\n",
      "INFO:root:clang -Wno-unused-result -Wsign-compare -Wunreachable-code -DNDEBUG -fwrapv -O2 -Wall -fPIC -O2 -isystem /opt/homebrew/Caskroom/miniconda/base/envs/research/include -arch arm64 -fPIC -O2 -isystem /opt/homebrew/Caskroom/miniconda/base/envs/research/include -arch arm64 -I/opt/homebrew/Caskroom/miniconda/base/envs/research/lib/python3.10/site-packages/ffcx/codegeneration -I/opt/homebrew/Caskroom/miniconda/base/envs/research/include/python3.10 -c libffcx_forms_5e7f534940411fd1462a6af656db03a5290d1455.c -o ./libffcx_forms_5e7f534940411fd1462a6af656db03a5290d1455.o -O3\n",
      "INFO:root:clang -bundle -undefined dynamic_lookup -Wl,-rpath,/opt/homebrew/Caskroom/miniconda/base/envs/research/lib -L/opt/homebrew/Caskroom/miniconda/base/envs/research/lib -Wl,-rpath,/opt/homebrew/Caskroom/miniconda/base/envs/research/lib -L/opt/homebrew/Caskroom/miniconda/base/envs/research/lib ./libffcx_forms_5e7f534940411fd1462a6af656db03a5290d1455.o -lm -o ./libffcx_forms_5e7f534940411fd1462a6af656db03a5290d1455.cpython-310-darwin.so\n"
     ]
    }
   ],
   "source": [
    "import dolfinx\n",
    "import gmsh\n",
    "import tqdm\n",
    "import copy\n",
    "import cmasher\n",
    "import numpy as np\n",
    "import scipy.optimize\n",
    "import scipy.interpolate\n",
    "from scipy.interpolate import griddata\n",
    "\n",
    "import matplotlib.pyplot as plt\n",
    "import matplotlib.gridspec as gridspec\n",
    "import matplotlib.tri as mtri\n",
    "import matplotlib.colors\n",
    "\n",
    "from mpi4py import MPI\n",
    "from Source.Mesh import *\n",
    "from Source.Parameters import *\n",
    "from Source.EnzymeFluxOptimized import *\n",
    "\n",
    "domain_parameters = DomainParameters(dim=3)\n",
    "mesh = Mesh(\n",
    "    MPI.COMM_SELF,\n",
    "    domain_parameters\n",
    ")\n",
    "parameters = Parameters(c_out = 0.7, k = 0.0, M = 1.0, χ = -0.01)\n",
    "\n",
    "flux = EnzymeFlux(mesh, parameters)\n",
    "\n",
    "def Δμ(v, M=None, k=None):    \n",
    "    flux.update(velocity=v, M=M)\n",
    "    return flux.get_asymmetry()\n",
    "\n",
    "def dΔμ_dv(v, M=None, k=None, dv=1e-3):   \n",
    "    Δμ_2 = Δμ(v + 0.5*dv, M=M, k=k)\n",
    "    Δμ_1 = Δμ(v - 0.5*dv)    \n",
    "    return (Δμ_2 - Δμ_1) / dv"
   ]
  },
  {
   "cell_type": "code",
   "execution_count": 2,
   "id": "d05b84f4-661a-4a30-9455-e54f27d4eb14",
   "metadata": {},
   "outputs": [],
   "source": [
    "# assign values to m\n",
    "x0 = -5\n",
    "L_grad   = 5\n",
    "x = flux.m.function_space.tabulate_dof_coordinates()\n",
    "r = np.linalg.norm(x - [x0, 0, 0], axis=1)\n",
    "flux.m.x.array[:] = np.exp(-(r/L_grad)**2 ) / (1+(r/L_grad))"
   ]
  },
  {
   "cell_type": "code",
   "execution_count": 3,
   "id": "6da2f1c2-a1ff-4a20-bfdc-190a8a4cee55",
   "metadata": {},
   "outputs": [],
   "source": [
    "v = scipy.optimize.newton(lambda x: Δμ(x, M=1000), 0.0)"
   ]
  },
  {
   "cell_type": "code",
   "execution_count": 4,
   "id": "95306110-e0a8-4059-9904-f4aa6ca12edd",
   "metadata": {},
   "outputs": [
    {
     "data": {
      "text/plain": [
       "8.595780275100509"
      ]
     },
     "execution_count": 4,
     "metadata": {},
     "output_type": "execute_result"
    }
   ],
   "source": [
    "v"
   ]
  },
  {
   "cell_type": "code",
   "execution_count": null,
   "id": "99d96a53-4e0b-4009-9fe2-3055d6c06ee5",
   "metadata": {},
   "outputs": [],
   "source": []
  },
  {
   "cell_type": "code",
   "execution_count": null,
   "id": "05821b75-9fc4-4469-bf9a-17a2f7c0f158",
   "metadata": {},
   "outputs": [],
   "source": []
  },
  {
   "cell_type": "code",
   "execution_count": null,
   "id": "26071cab-0709-4701-9ada-51c6c72d85b9",
   "metadata": {},
   "outputs": [],
   "source": [
    "Δμ(0.0, M=None, k=None)"
   ]
  },
  {
   "cell_type": "code",
   "execution_count": null,
   "id": "aed542c8-2104-4189-afa5-534f573a538a",
   "metadata": {},
   "outputs": [],
   "source": [
    "x0 = -5\n",
    "# assign values to m\n",
    "x = simulation.solution.function_space.tabulate_dof_coordinates()\n",
    "r = np.linalg.norm(x - [x0, 0, 0], axis=1)\n",
    "#simulation.m.x.array[:] = np.exp(-(r/L_grad)**2 ) / (1+(r/L_grad))\n"
   ]
  },
  {
   "cell_type": "code",
   "execution_count": null,
   "id": "0ad4d5ee-7536-41ff-854b-a7b81c9eb660",
   "metadata": {},
   "outputs": [],
   "source": [
    "simulation.solution"
   ]
  },
  {
   "cell_type": "code",
   "execution_count": null,
   "id": "878cb68e-2cbe-46aa-9dea-169c47c73e61",
   "metadata": {},
   "outputs": [],
   "source": [
    "k_range = np.linspace(0.1,10,100)\n",
    "M_range = np.linspace(2000,1,100)\n",
    "\n",
    "data_contour = []\n",
    "data_bulk = []\n",
    "for k in tqdm.tqdm(k_range):\n",
    "    simulation.update(velocity=0, k=k)\n",
    "\n",
    "    # find first value of M where Δμ starts to grow\n",
    "    M_crit = scipy.optimize.newton(lambda x: dΔμ_dv(0.0, M=x), M_range.min())\n",
    "    data_contour.append([k, M_crit])\n",
    "    \n",
    "    v = 10.0\n",
    "    for M in M_range:\n",
    "        if M >= M_crit:\n",
    "            reference = Δμ(0.0, M=M) # this should ideally be zero, but there can be numerical inaccuracies\n",
    "            v = scipy.optimize.newton(lambda x: Δμ(x, M=M) - reference, v)\n",
    "            data_bulk.append([k, M, v, flux.get_asymmetry()])\n",
    "        else:\n",
    "            data_bulk.append([k, M, 0.0, flux.get_asymmetry()])\n",
    "\n",
    "data_contour = np.array(data_contour)\n",
    "data_bulk = np.array(data_bulk)\n",
    "\n",
    "np.savetxt('droplet_motion_'+str(mesh.dimension)+'d_c'+str(parameters.c_out)+'_contour.csv', data_contour, delimiter=',', header=\"k,M_crit\")\n",
    "np.savetxt('droplet_motion_'+str(mesh.dimension)+'d_c'+str(parameters.c_out)+'_bulk.csv', data_bulk, delimiter=',', header=\"k,M,v,imbalance\")"
   ]
  }
 ],
 "metadata": {
  "kernelspec": {
   "display_name": "Python (research)",
   "language": "python",
   "name": "research"
  },
  "language_info": {
   "codemirror_mode": {
    "name": "ipython",
    "version": 3
   },
   "file_extension": ".py",
   "mimetype": "text/x-python",
   "name": "python",
   "nbconvert_exporter": "python",
   "pygments_lexer": "ipython3",
   "version": "3.10.13"
  }
 },
 "nbformat": 4,
 "nbformat_minor": 5
}
