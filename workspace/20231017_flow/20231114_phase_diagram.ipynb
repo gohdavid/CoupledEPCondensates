{
 "cells": [
  {
   "cell_type": "code",
   "execution_count": 1,
   "metadata": {},
   "outputs": [],
   "source": [
    "from pathlib import Path\n",
    "from utils.file_operations import input_parse\n",
    "import numpy as np"
   ]
  },
  {
   "cell_type": "code",
   "execution_count": 30,
   "metadata": {},
   "outputs": [],
   "source": [
    "root = Path(\"20231022_output\")"
   ]
  },
  {
   "cell_type": "code",
   "execution_count": 31,
   "metadata": {},
   "outputs": [
    {
     "data": {
      "text/plain": [
       "{'k_production': {0.01, 0.1, 1.0},\n",
       " 'reaction_sigma': {2.5, 5.0},\n",
       " 'seed_value': {(5, 0), (5.5, 0)},\n",
       " 'location': {((2, 0), (0, 0)),\n",
       "  ((4, 0), (0, 0)),\n",
       "  ((6, 0), (0, 0)),\n",
       "  ((8, 0), (0, 0)),\n",
       "  ((10, 0), (0, 0))}}"
      ]
     },
     "execution_count": 31,
     "metadata": {},
     "output_type": "execute_result"
    }
   ],
   "source": [
    "dct_lst = []\n",
    "for file in root.glob(\"*/input_params.txt\"):\n",
    "    dct_lst.append(input_parse(file))\n",
    "total_dct = {}\n",
    "for dct in dct_lst:\n",
    "    for key in dct.keys():\n",
    "        total_dct[key] = [dct[key]] + total_dct.get(key,[])\n",
    "sweep_parameters = {k:set(v) for k, v in total_dct.items()}\n",
    "sweep_parameters = {k:v for k, v in sweep_parameters.items() if len(v)>1}\n",
    "sweep_parameters"
   ]
  },
  {
   "cell_type": "code",
   "execution_count": 48,
   "metadata": {},
   "outputs": [
    {
     "name": "stdout",
     "output_type": "stream",
     "text": [
      "3.55\n",
      "3.5\n",
      "3.575\n",
      "3.525\n"
     ]
    }
   ],
   "source": [
    "for c in sweep_parameters[\"initial_values\"]:\n",
    "    print(c[0])"
   ]
  },
  {
   "cell_type": "code",
   "execution_count": 45,
   "metadata": {},
   "outputs": [],
   "source": [
    "for k_prod in sweep_parameters[\"k_production\"]:\n",
    "    for c in sweep_parameters[\"initial_values\"]:\n",
    "        c_init = c[0]\n",
    "        file = f\"M1_1.0_beta_-0.25_gamma_-0.1_kappa_0.05_kprod_{k_prod}_c1Init_{c_init}_noiseVar_0.0_rxnSigma_2.5_seed_5.5_loc_10\"\n",
    "        info_path = root / file / \"info.txt\"\n",
    "        dct = input_parse(info_path)"
   ]
  },
  {
   "cell_type": "code",
   "execution_count": 47,
   "metadata": {},
   "outputs": [
    {
     "data": {
      "text/plain": [
       "{'k_production': {0.05, 0.1, 0.5},\n",
       " 'initial_values': {(3.5, 0.0), (3.525, 0.0), (3.55, 0.0), (3.575, 0.0)}}"
      ]
     },
     "execution_count": 47,
     "metadata": {},
     "output_type": "execute_result"
    }
   ],
   "source": [
    "sweep_parameters"
   ]
  }
 ],
 "metadata": {
  "kernelspec": {
   "display_name": "CoupledEPCondensates",
   "language": "python",
   "name": "python3"
  },
  "language_info": {
   "codemirror_mode": {
    "name": "ipython",
    "version": 3
   },
   "file_extension": ".py",
   "mimetype": "text/x-python",
   "name": "python",
   "nbconvert_exporter": "python",
   "pygments_lexer": "ipython3",
   "version": "3.10.12"
  }
 },
 "nbformat": 4,
 "nbformat_minor": 2
}
