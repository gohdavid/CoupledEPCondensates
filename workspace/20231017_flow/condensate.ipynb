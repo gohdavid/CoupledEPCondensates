{
 "cells": [
  {
   "cell_type": "code",
   "execution_count": 36,
   "metadata": {},
   "outputs": [],
   "source": [
    "from utils.analysis.tools import simDir\n",
    "import seaborn as sns\n",
    "from scipy.ndimage import uniform_filter1d\n",
    "import numpy as np\n",
    "import matplotlib.pyplot as plt\n",
    "from sklearn.cluster import DBSCAN\n",
    "from pathlib import Path\n",
    "from utils.file_operations import input_parse, write_input_params_from_dict\n",
    "import multiprocessing as mp"
   ]
  },
  {
   "cell_type": "code",
   "execution_count": 37,
   "metadata": {},
   "outputs": [],
   "source": [
    "root = Path(\"/nfs/arupclab001/davidgoh/CoupledEPCondensates/workspace/20231017_flow/20231023_output/\")\n"
   ]
  },
  {
   "cell_type": "code",
   "execution_count": 38,
   "metadata": {},
   "outputs": [],
   "source": [
    "folders = [root / p for p in root.iterdir() if p.match(\"M1*\")]\n",
    "\n",
    "def single_condensate(root):\n",
    "    sim = simDir(root)\n",
    "    sim.run()\n",
    "    sim.condensate()\n",
    "    arr = np.array(sim.n_condensate())\n",
    "    return arr"
   ]
  },
  {
   "cell_type": "code",
   "execution_count": 39,
   "metadata": {},
   "outputs": [],
   "source": [
    "def update_info(info_dict, folder):\n",
    "    file = folder / \"info.txt\"\n",
    "    if file.exists():\n",
    "        info_dict = info_dict | input_parse(file)\n",
    "        write_input_params_from_dict(info_dict,file)\n",
    "    else:\n",
    "        write_input_params_from_dict(info_dict,file)"
   ]
  },
  {
   "cell_type": "code",
   "execution_count": 42,
   "metadata": {},
   "outputs": [],
   "source": [
    "def info_cluster(folder):\n",
    "    try:\n",
    "        arr = single_condensate(folder)\n",
    "        maximum = list(np.unique(arr))\n",
    "        update_info({\"n_condensate\":maximum},folder)\n",
    "    except:\n",
    "        return f\"Failed {folder}\"\n"
   ]
  },
  {
   "cell_type": "code",
   "execution_count": 41,
   "metadata": {},
   "outputs": [
    {
     "data": {
      "text/plain": [
       "[None,\n",
       " None,\n",
       " 'Failed {folder}',\n",
       " None,\n",
       " None,\n",
       " None,\n",
       " None,\n",
       " None,\n",
       " None,\n",
       " 'Failed {folder}',\n",
       " None,\n",
       " None]"
      ]
     },
     "execution_count": 41,
     "metadata": {},
     "output_type": "execute_result"
    }
   ],
   "source": [
    "pool = mp.Pool(processes=(mp.cpu_count() - 1))\n",
    "pool.map(info_cluster,folders)"
   ]
  }
 ],
 "metadata": {
  "kernelspec": {
   "display_name": "CoupledEPCondensates",
   "language": "python",
   "name": "python3"
  },
  "language_info": {
   "codemirror_mode": {
    "name": "ipython",
    "version": 3
   },
   "file_extension": ".py",
   "mimetype": "text/x-python",
   "name": "python",
   "nbconvert_exporter": "python",
   "pygments_lexer": "ipython3",
   "version": "3.10.12"
  }
 },
 "nbformat": 4,
 "nbformat_minor": 2
}
