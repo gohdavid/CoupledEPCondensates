{
 "cells": [
  {
   "cell_type": "code",
   "execution_count": 1,
   "metadata": {},
   "outputs": [],
   "source": [
    "from utils.analysis.make_movies import write_movies_two_component_2d\n",
    "from utils.file_operations import input_parse\n",
    "from utils.simulation_helper import set_mesh_geometry\n",
    "import os\n",
    "import glob"
   ]
  },
  {
   "cell_type": "code",
   "execution_count": 7,
   "metadata": {},
   "outputs": [],
   "source": [
    "root = \"/nfs/arupclab001/davidgoh/CoupledEPCondensates/workspace/20231017_flow/M_1_10.0_beta_-0.25_gamma_-0.1_kappa_0.01_K_0.0_K_spatial_5.0_c_initial_3.0_noise_variance_0.0_reaction_sigma_2.5\"\n",
    "movie_parameters_file = \"/nfs/arupclab001/davidgoh/CoupledEPCondensates/utils/analysis/movie_parameters.txt\"\n",
    "movie_parameters = input_parse(movie_parameters_file)"
   ]
  },
  {
   "cell_type": "code",
   "execution_count": 3,
   "metadata": {},
   "outputs": [],
   "source": [
    "for file in os.listdir(root):\n",
    "    if os.path.splitext(file)[-1] == \".hdf5\":\n",
    "        h5file = os.path.join(root,file)\n",
    "    elif file == \"input_params.txt\":\n",
    "        input_params = input_parse(os.path.join(root,file))\n",
    "        sim_geometry = set_mesh_geometry(input_params)"
   ]
  },
  {
   "cell_type": "code",
   "execution_count": 12,
   "metadata": {},
   "outputs": [
    {
     "name": "stdout",
     "output_type": "stream",
     "text": [
      "/nfs/arupclab001/davidgoh/CoupledEPCondensates/workspace/20231017_flow/M_1_10.0_beta_-0.25_gamma_-0.1_kappa_0.01_K_0.0_K_spatial_5.0_c_initial_3.0_noise_variance_0.0_reaction_sigma_2.5/movies directory already exists\n",
      "0\n",
      "1\n",
      "Moviepy - Building video /nfs/arupclab001/davidgoh/CoupledEPCondensates/workspace/20231017_flow/M_1_10.0_beta_-0.25_gamma_-0.1_kappa_0.01_K_0.0_K_spatial_5.0_c_initial_3.0_noise_variance_0.0_reaction_sigma_2.5/movies/Movie.mp4.\n",
      "Moviepy - Writing video /nfs/arupclab001/davidgoh/CoupledEPCondensates/workspace/20231017_flow/M_1_10.0_beta_-0.25_gamma_-0.1_kappa_0.01_K_0.0_K_spatial_5.0_c_initial_3.0_noise_variance_0.0_reaction_sigma_2.5/movies/Movie.mp4\n",
      "\n"
     ]
    },
    {
     "name": "stderr",
     "output_type": "stream",
     "text": [
      "                                                            \r"
     ]
    },
    {
     "name": "stdout",
     "output_type": "stream",
     "text": [
      "Moviepy - Done !\n",
      "Moviepy - video ready /nfs/arupclab001/davidgoh/CoupledEPCondensates/workspace/20231017_flow/M_1_10.0_beta_-0.25_gamma_-0.1_kappa_0.01_K_0.0_K_spatial_5.0_c_initial_3.0_noise_variance_0.0_reaction_sigma_2.5/movies/Movie.mp4\n"
     ]
    }
   ],
   "source": [
    "write_movies_two_component_2d(root, h5file, movie_parameters, sim_geometry.mesh)\n"
   ]
  }
 ],
 "metadata": {
  "kernelspec": {
   "display_name": "CoupledEPCondensates",
   "language": "python",
   "name": "python3"
  },
  "language_info": {
   "codemirror_mode": {
    "name": "ipython",
    "version": 3
   },
   "file_extension": ".py",
   "mimetype": "text/x-python",
   "name": "python",
   "nbconvert_exporter": "python",
   "pygments_lexer": "ipython3",
   "version": "3.10.12"
  }
 },
 "nbformat": 4,
 "nbformat_minor": 2
}
