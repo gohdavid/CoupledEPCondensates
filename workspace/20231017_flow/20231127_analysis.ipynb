{
 "cells": [
  {
   "cell_type": "code",
   "execution_count": 35,
   "metadata": {},
   "outputs": [],
   "source": [
    "from pathlib import Path, PurePath\n",
    "from utils.analysis.tools import simDir\n",
    "import re\n",
    "import subprocess"
   ]
  },
  {
   "cell_type": "code",
   "execution_count": 37,
   "metadata": {},
   "outputs": [],
   "source": [
    "root = Path(\"/nfs/arupclab001/davidgoh/CoupledEPCondensates/workspace/20231017_flow/20231127_output\")\n",
    "matches = list(root.glob(\"slurm*\"))\n",
    "pattern = re.compile(r'-([0-9]*).')\n",
    "jobs = [pattern.search(i.name).group(1) for i in matches]\n",
    "for i in jobs:\n",
    "    subprocess.run([\"scancel\", i])"
   ]
  }
 ],
 "metadata": {
  "kernelspec": {
   "display_name": "CoupledEPCondensates",
   "language": "python",
   "name": "python3"
  },
  "language_info": {
   "codemirror_mode": {
    "name": "ipython",
    "version": 3
   },
   "file_extension": ".py",
   "mimetype": "text/x-python",
   "name": "python",
   "nbconvert_exporter": "python",
   "pygments_lexer": "ipython3",
   "version": "3.10.12"
  }
 },
 "nbformat": 4,
 "nbformat_minor": 2
}
