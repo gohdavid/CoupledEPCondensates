{
 "cells": [
  {
   "cell_type": "code",
   "execution_count": 1,
   "metadata": {},
   "outputs": [],
   "source": [
    "import numpy as np"
   ]
  },
  {
   "cell_type": "code",
   "execution_count": 11,
   "metadata": {},
   "outputs": [],
   "source": [
    "locations = np.arange(0,10+0.5,0.5)\n",
    "k_productions = np.arange(2,5+0.5,0.5)\n",
    "sweeped_params = \"location,\" + str([[[i,0],[0,0]] for i in locations])\\\n",
    "    + \"\\n\" +\"k_production,\" + str(list(k_productions))\n",
    "with open(\"20231018_sweep_parameters.txt\",\"w\") as fhandle:\n",
    "    fhandle.write(sweeped_params)"
   ]
  }
 ],
 "metadata": {
  "kernelspec": {
   "display_name": "CoupledEPCondensates",
   "language": "python",
   "name": "python3"
  },
  "language_info": {
   "codemirror_mode": {
    "name": "ipython",
    "version": 3
   },
   "file_extension": ".py",
   "mimetype": "text/x-python",
   "name": "python",
   "nbconvert_exporter": "python",
   "pygments_lexer": "ipython3",
   "version": "3.10.12"
  }
 },
 "nbformat": 4,
 "nbformat_minor": 2
}
