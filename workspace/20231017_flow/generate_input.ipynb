{
 "cells": [
  {
   "cell_type": "code",
   "execution_count": 1,
   "metadata": {},
   "outputs": [],
   "source": [
    "import numpy as np"
   ]
  },
  {
   "cell_type": "code",
   "execution_count": 2,
   "metadata": {},
   "outputs": [],
   "source": [
    "locations = np.arange(2,10+2,2)\n",
    "background_conc = [3.5, 3.525, 3.55, 3.575]\n",
    "k_productions =  [0.05,0.1,0.5]\n",
    "reaction_sigmas = [2.5, 4]\n",
    "kappas = [0.05,0.1]\n",
    "seeds = [5.5, 4.5]\n",
    "sweeped_params = (\n",
    "    # f\"location, {str([[[i,0],[0,0]] for i in locations])}\\n\"\n",
    "    f\"k_production, {str(k_productions)}\\n\"\n",
    "    # f\"reaction_sigma, {str(reaction_sigmas)}\\n\"\n",
    "    # f\"kappa_tilde, {kappas}\"\n",
    "    f\"initial_values, {[[i,0.0] for i in background_conc]}\\n\"\n",
    "    # f\"seed_value,{[[i,0] for i in seeds]}\\n\"\n",
    "    )\n",
    "with open(\"sweep_parameters.txt\",\"w\") as fhandle:\n",
    "    fhandle.write(sweeped_params)"
   ]
  }
 ],
 "metadata": {
  "kernelspec": {
   "display_name": "CoupledEPCondensates",
   "language": "python",
   "name": "python3"
  },
  "language_info": {
   "codemirror_mode": {
    "name": "ipython",
    "version": 3
   },
   "file_extension": ".py",
   "mimetype": "text/x-python",
   "name": "python",
   "nbconvert_exporter": "python",
   "pygments_lexer": "ipython3",
   "version": "3.10.12"
  }
 },
 "nbformat": 4,
 "nbformat_minor": 2
}
