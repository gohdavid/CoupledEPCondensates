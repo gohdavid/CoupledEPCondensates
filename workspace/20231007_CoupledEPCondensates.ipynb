{
 "cells": [
  {
   "cell_type": "markdown",
   "metadata": {},
   "source": [
    "# Coupled enhancer-promoter condensates\n",
    "\n",
    ":::{@fig-enhancer_promoter}\n",
    "![Enhancer and promoter regions on chromatin](_assets/EnhancerPromoter.png){fig-width=200px}\n",
    ":::\n",
    "\n",
    "## Free energy functional\n",
    "\\newcommand{\\conc}[1]{\\phi_\\mathrm{#1}}\n",
    "\n",
    "\n",
    "$$\n",
    "\\begin{aligned}\n",
    "F(\\conc{P}(\\vec{x},t),\\conc{R}(\\vec{x},t))\n",
    "&=\\int \\mathrm{d}\\vec x\\rho_\\mathrm{P}(\\conc{P}-\\alpha)^2(\\conc{P}-\\beta)^2\\\\\n",
    "&+\\rho_\\mathrm{R}\\conc{R}^2\\\\\n",
    "&-\\chi \\conc{P}\\conc{R}+c \\conc{P}^2\\conc{R}^2\\\\\n",
    "&+\\frac{\\kappa}{2}|\\nabla \\conc{P}|^2\\\\\n",
    "&-\\chi_\\mathrm{PD}\\conc{P}\\exp\\left\\{-\\frac{(\\vec{x}-\\vec{x_e})^2}{2\\sigma^2}\\right\\}\\\\\n",
    "&+F_C\n",
    "\\end{aligned}\n",
    "$$\n",
    "\n",
    "- Protein-protein double-well potential\n",
    "$$F_\\mathrm{DW}=\\rho_\\mathrm{P}(\\conc{P}-\\alpha)^2(\\conc{P}-\\beta)^2$$\n",
    "- RNA-RNA repulsion\n",
    "$$\\rho_\\mathrm{R}\\conc{R}^2$$\n",
    "- Protein-RNA electrostatic interaction\n",
    "$$\\chi_\\mathrm{PR}(\\conc{P},\\conc{R})=\\chi \\conc{P}\\conc{R}+c \\conc{P}^2\\conc{R}^2$$\n",
    "- Protein-DNA interaction\n",
    "$$\\chi_\\mathrm{PD}\\conc{P}\\conc{D}=\\chi_\\mathrm{PD}\\conc{P}\\exp\\left\\{-\\frac{(\\vec{x}-\\vec{x_e})^2}{2\\sigma^2}\\right\\}$$\n",
    "- Interfacial surface-tension\n",
    "$$\\frac{\\kappa}{2}|\\nabla \\conc{P}|^2$$\n",
    "- Chromatin\n",
    "    - Double-stranded DNA $L_P\\approx 50$ nm [@bustamanteEntropicElasticityLPhage1994], not chromatin with nucleosomes.\n",
    "    - From base pair distance$L_C$ can be $10^6$ nm [@krivegaEnhancerPromoterInteractions2012], not chromatin with nucleosomes.\n",
    "    - $\\vec R$ can be 300 to 1000 nm [@choMediatorRNAPolymerase2018].\n",
    "    - Worm-like chain for $L_C\\approx L_P$ and $L_C> L_P$\n",
    "    - Harmonic potential for small deformations\n",
    "$$F_\\mathrm{C}=\\frac{1}{2}k(|\\vec{R}|-L_C)^2=\\frac{1}{2}k(|\\vec{x}_\\mathrm{e}-\\vec{x}_\\mathrm{p}|-L_C)^2$$\n",
    "    - Gaussian chain for $L_C\\gg L_P$\n",
    "Using $l=L_P$ and $N=L_C/L_P$\n",
    "\n",
    "$$F(\\vec R)=\\frac{3k_B T}{2}\\left(\\frac{|\\vec R|^2}{L_CL_P}\\right)$$\n",
    "\n",
    "## Dynamic equations\n",
    "\n",
    "- Protein dynamics\n",
    "Model A dynamics. The amount of protein is conserved.\n",
    "$$\\pdv{\\conc{P}}{t}=M_\\mathrm{P}\\nabla^2\\left(\\pdv{F}{\\conc{P}}\\right)=M_\\mathrm{P}\\nabla^2\\mu_\\mathrm{P}$$\n",
    "- RNA dynamics\n",
    "$$\\pdv{\\conc{R}}{t}=M_\\mathrm{R}\\nabla^2\\conc{R}+k_p(\\vec{x})\\conc{P}-k_d\\conc{R}$$\n",
    "$$k_p(\\vec{x})=\\frac{k_T}{2\\pi\\sigma^2}\\exp\\left\\{\\frac{(\\vec{x}-\\vec{x_p})^2}{2\\sigma^2}\\right\\}$$\n",
    "- Enhancer region dynamics\n",
    "    - Gradient of free energy functional with respect to the vector $\\vec{x}_e$\n",
    "$$\\pdv{\\vec{x}_\\mathrm{e}}{t}=M_\\mathrm{D}\\nabla_{\\vec{x}_e} F$$"
   ]
  }
 ],
 "metadata": {
  "kernelspec": {
   "display_name": "CoupledEPCondensates",
   "language": "python",
   "name": "python3"
  },
  "language_info": {
   "name": "python",
   "version": "3.10.12"
  },
  "orig_nbformat": 4
 },
 "nbformat": 4,
 "nbformat_minor": 2
}
