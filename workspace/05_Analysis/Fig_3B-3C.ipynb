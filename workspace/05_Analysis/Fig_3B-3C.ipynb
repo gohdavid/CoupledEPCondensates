{
 "cells": [
  {
   "cell_type": "code",
   "execution_count": null,
   "metadata": {},
   "outputs": [],
   "source": [
    "import numpy as np\n",
    "from pathlib import Path\n",
    "from utils.analysis.tools import simDir, periodicity_plot\n",
    "from matplotlib import pyplot as plt\n",
    "from scipy.signal import find_peaks\n",
    "from scipy.ndimage import gaussian_filter1d\n",
    "from utils.plot import _FIGURE_DIR, get_size_inches, _CM"
   ]
  },
  {
   "cell_type": "code",
   "execution_count": null,
   "metadata": {},
   "outputs": [],
   "source": [
    "folder = Path(\"/nfs/arupclab001/davidgoh/CoupledEPCondensates/workspace/05_TimeDelay/20240223_PhaseDiagramHillFaster/M1_1.0_b_-0.25_g_-0.1_c_0.03_k_0.05_kp_0.2_c1_3.53_sw_1.0_sr_2.5_cn_5.5_l_10_M3_0.1_kt_0.0_rl_0.0_wd_0.0_t_250.0_kd_1.0\")\n",
    "sim = simDir(folder)\n",
    "sim.run()\n",
    "sim.condensate()"
   ]
  },
  {
   "cell_type": "code",
   "execution_count": null,
   "metadata": {},
   "outputs": [],
   "source": [
    "def periodicity_plot(sim,threshold,leftlim=0,rightlim=20000):\n",
    "    sim.periodicity(threshold)\n",
    "    rna = np.ravel(sim.rna_amount)\n",
    "    com = np.ravel(sim.com[:,0])\n",
    "    time = np.ravel(sim.time)\n",
    "    time = time[:len(rna)]\n",
    "    fig,axes = plt.subplots(4,1,sharex=True)\n",
    "    fig.set_size_inches(5,3)\n",
    "    axes[0].plot(time,rna)\n",
    "    start = np.argmin((time-threshold)**2)\n",
    "    axes[0].scatter(time[sim.peaks],rna[sim.peaks],alpha=0.3)\n",
    "    axes[0].scatter(time[sim.troughs],rna[sim.troughs],alpha=0.3)\n",
    "    diffs = np.diff(time[sim.peaks],axis=0)\n",
    "    locst = (time[sim.peaks][:-1] + time[sim.peaks][1:])/2\n",
    "    for i in range(len(diffs)):\n",
    "        axes[0].annotate(f\"{diffs[i].item():.0f}\",(locst[i],0),ha='center',rotation=90,\n",
    "                         va='bottom')\n",
    "    axes[1].plot(time,com)\n",
    "    axes[2].plot(time,np.var(sim.radius,axis=1))\n",
    "    axes[3].plot(time,sim.eccentricity)\n",
    "    [ax.axvline(i, color='grey', ls='dashed') for i in time[sim.peaks] for ax in axes]\n",
    "    axes[3].set_xlabel(\"Time\")\n",
    "    axes[0].set_ylabel(\"RNA\\nAmount\")\n",
    "    axes[1].set_ylabel(\"Center of\\nMass\")\n",
    "    axes[2].set_ylabel(\"Variance of\\nRadius\")\n",
    "    axes[3].set_ylabel(\"Eccentricity\")\n",
    "    axes[3].set_xlim(left=leftlim,right=rightlim)\n",
    "    return fig,axes,sim.peaks,sim.troughs"
   ]
  },
  {
   "cell_type": "code",
   "execution_count": null,
   "metadata": {},
   "outputs": [],
   "source": [
    "fig, axes, peaks, troughs = periodicity_plot(sim,5000)\n",
    "fig.suptitle(\"Time Delay = 250\")"
   ]
  },
  {
   "cell_type": "code",
   "execution_count": null,
   "metadata": {},
   "outputs": [],
   "source": [
    "def shape(xy,c,ax,cmap=\"Blues\",vmin=None,vmax=None,xlim=None,ylim=None,levels=None):\n",
    "    x = xy[:,0]\n",
    "    y = xy[:,1]\n",
    "    ax.tricontourf(x,y,c,cmap=cmap,\n",
    "                   vmin=vmin,vmax=vmax,\n",
    "                   levels=levels)\n",
    "    ax.set_aspect(1)\n",
    "    for spine in ax.spines:\n",
    "        ax.spines[spine].set_visible(False)\n",
    "        ax.tick_params(\n",
    "        axis='both',\n",
    "        which='both',\n",
    "        bottom=False,\n",
    "        left=False,\n",
    "        labelbottom=False,\n",
    "        labelleft=False)\n",
    "    ax.set_xlim(xlim)\n",
    "    ax.set_ylim(ylim)"
   ]
  },
  {
   "cell_type": "code",
   "execution_count": null,
   "metadata": {},
   "outputs": [],
   "source": [
    "mids = ((peaks+troughs)/2).astype(int)\n",
    "fig,ax = plt.subplots()\n",
    "fig.set_size_inches(8.5*_CM,1*_CM)\n",
    "times = np.linspace(mids[17],mids[18],10).astype(int)\n",
    "ax.plot(sim.time[times[0]:times[-1]],sim.rna_amount[times[0]:times[-1]],color='Black',linewidth=1.5)\n",
    "ax.set_ylabel(\"RNA Amount\")\n",
    "ax.set_xlabel(\"Time\")\n",
    "ax.set_axis_off()\n",
    "plt.savefig(_FIGURE_DIR/\"Fig3_A_OscillationAsymmetricRNAAmount\")"
   ]
  },
  {
   "cell_type": "code",
   "execution_count": null,
   "metadata": {},
   "outputs": [],
   "source": [
    "times = np.linspace(mids[17],mids[18],10).astype(int)\n",
    "fig,axes = plt.subplots(1,len(times))\n",
    "fig.set_size_inches(8.5*_CM,1*_CM)\n",
    "for ax, time in zip(np.ravel(axes),times):\n",
    "    xy = sim.xy[sim.mask[time,:],:]\n",
    "    conc = sim.concentration_profile[0][time][sim.mask[time,:]]\n",
    "    shape(xy,conc,ax,xlim=(-1,7),levels=3)\n",
    "    ax.scatter(x=0, y=0, s=2, color='#9DD08A',marker=\".\")\n",
    "# plt.savefig(\"deform_collapse_protein.png\", transparent=True, dpi=300, bbox_inches='tight')\n",
    "plt.savefig(_FIGURE_DIR/\"Fig3_A_OscillationAsymmetric\")"
   ]
  },
  {
   "cell_type": "code",
   "execution_count": null,
   "metadata": {},
   "outputs": [],
   "source": [
    "fig,axes = plt.subplots(1,len(times))\n",
    "fig.set_size_inches(8.5*_CM,1*_CM)\n",
    "radius = 8\n",
    "mask = np.sum(sim.xy**2,axis=1)<radius**2\n",
    "for ax, time in zip(np.ravel(axes),times):\n",
    "    xy = sim.xy[mask,:]\n",
    "    conc = sim.concentration_profile[1][time][mask]\n",
    "    shape(xy,conc,ax,cmap=\"Reds\",vmin=sim.plotting_range[1][0],vmax=sim.plotting_range[1][1],levels=3)\n",
    "    ax.scatter(x=0, y=0, s=2, color='green',marker=\".\")\n",
    "plt.savefig(_FIGURE_DIR/\"Fig3_A_OscillationAsymmetricRNA\")"
   ]
  },
  {
   "cell_type": "code",
   "execution_count": null,
   "metadata": {},
   "outputs": [],
   "source": [
    "folder = Path(\"/nfs/arupclab001/davidgoh/CoupledEPCondensates/workspace/05_TimeDelay/20240223_PhaseDiagramHillFaster/M1_1.0_b_-0.25_g_-0.1_c_0.02_k_0.05_kp_0.2_c1_3.53_sw_1.0_sr_2.5_cn_5.5_l_10_M3_0.1_kt_0.0_rl_0.0_wd_0.0_t_250.0_kd_1.0\")\n",
    "sim = simDir(folder)"
   ]
  },
  {
   "cell_type": "code",
   "execution_count": null,
   "metadata": {},
   "outputs": [],
   "source": [
    "sim.run()\n",
    "sim.condensate()\n",
    "sim.rna()"
   ]
  },
  {
   "cell_type": "code",
   "execution_count": null,
   "metadata": {},
   "outputs": [],
   "source": [
    "len(sim.time)"
   ]
  },
  {
   "cell_type": "code",
   "execution_count": null,
   "metadata": {},
   "outputs": [],
   "source": [
    "fig, axes, peaks, troughs = periodicity_plot(sim,5000)\n",
    "fig.suptitle(\"Time Delay = 250\")"
   ]
  },
  {
   "cell_type": "code",
   "execution_count": null,
   "metadata": {},
   "outputs": [],
   "source": [
    "mids = ((peaks+troughs)/2).astype(int)-60\n",
    "fig,ax = plt.subplots()\n",
    "fig.set_size_inches(8.5*_CM,1*_CM)\n",
    "times = np.linspace(mids[18],mids[19],10).astype(int)\n",
    "ax.plot(sim.time[times[0]:times[-1]],sim.rna_amount[times[0]:times[-1]],color='Black',linewidth=1.5)\n",
    "ax.set_ylabel(\"RNA Amount\")\n",
    "ax.set_xlabel(\"Time\")\n",
    "ax.set_axis_off()\n",
    "plt.savefig(\"deform_collapse_rnaamount_circular.png\", transparent=True, dpi=300, bbox_inches='tight')\n",
    "plt.savefig(_FIGURE_DIR/\"Fig3_A_OscillationSymmetricRNAAmount\")"
   ]
  },
  {
   "cell_type": "code",
   "execution_count": null,
   "metadata": {},
   "outputs": [],
   "source": [
    "times = np.linspace(mids[18],mids[19],10).astype(int)\n",
    "fig,axes = plt.subplots(1,len(times))\n",
    "fig.set_size_inches(8.5*_CM,1*_CM)\n",
    "for ax, time in zip(np.ravel(axes),times):\n",
    "    xy = sim.xy[sim.mask[time,:],:]\n",
    "    conc = sim.concentration_profile[0][time][sim.mask[time,:]]\n",
    "    shape(xy,conc,ax,xlim=(-5,5),levels=3)\n",
    "    ax.scatter(x=0, y=0, s=2, color='#9DD08A',marker=\".\")\n",
    "plt.savefig(_FIGURE_DIR/\"Fig3_A_OscillationSymmetric\")"
   ]
  },
  {
   "cell_type": "code",
   "execution_count": null,
   "metadata": {},
   "outputs": [],
   "source": [
    "fig,axes = plt.subplots(1,len(times))\n",
    "fig.set_size_inches(8.5*_CM,1*_CM)\n",
    "radius = 8\n",
    "mask = np.sum(sim.xy**2,axis=1)<radius**2\n",
    "for ax, time in zip(np.ravel(axes),times):\n",
    "    xy = sim.xy[mask,:]\n",
    "    conc = sim.concentration_profile[1][time][mask]\n",
    "    shape(xy,conc,ax,cmap=\"Reds\",vmin=sim.plotting_range[1][0],vmax=sim.plotting_range[1][1],levels=3)\n",
    "    ax.scatter(x=0, y=0, s=2, color='green',marker=\".\")\n",
    "plt.savefig(_FIGURE_DIR/\"Fig3_A_OscillationSymmetricRNA\")"
   ]
  },
  {
   "cell_type": "code",
   "execution_count": null,
   "metadata": {},
   "outputs": [],
   "source": [
    "folder = Path(\"/nfs/arupclab001/davidgoh/CoupledEPCondensates/workspace/05_TimeDelay/20240223_PhaseDiagramHillFaster/M1_1.0_b_-0.25_g_-0.1_c_0.015_k_0.05_kp_0.2_c1_3.53_sw_1.0_sr_2.5_cn_5.5_l_10_M3_0.1_kt_0.0_rl_0.0_wd_0.0_t_100.0_kd_1.0\")\n",
    "sim = simDir(folder)\n",
    "sim.run()\n",
    "sim.condensate()"
   ]
  },
  {
   "cell_type": "code",
   "execution_count": null,
   "metadata": {},
   "outputs": [],
   "source": [
    "fig, axes, peaks, troughs = periodicity_plot(sim,20000)\n",
    "fig.suptitle(\"Time Delay = 100\")"
   ]
  }
 ],
 "metadata": {
  "kernelspec": {
   "display_name": "CoupledEPCondensates",
   "language": "python",
   "name": "python3"
  },
  "language_info": {
   "codemirror_mode": {
    "name": "ipython",
    "version": 3
   },
   "file_extension": ".py",
   "mimetype": "text/x-python",
   "name": "python",
   "nbconvert_exporter": "python",
   "pygments_lexer": "ipython3",
   "version": "3.10.13"
  }
 },
 "nbformat": 4,
 "nbformat_minor": 2
}
