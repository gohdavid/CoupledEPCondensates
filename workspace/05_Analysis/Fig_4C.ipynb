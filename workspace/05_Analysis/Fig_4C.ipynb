{
 "cells": [
  {
   "cell_type": "code",
   "execution_count": null,
   "metadata": {},
   "outputs": [],
   "source": [
    "from utils.analysis.tools import simDir, periodicity_plot\n",
    "from pathlib import Path\n",
    "import pandas as pd\n",
    "import seaborn as sns\n",
    "import numpy as np\n",
    "import matplotlib.pyplot as plt\n",
    "import matplotlib as mpl\n",
    "from utils import plot\n",
    "from utils.plot import _FIGURE_DIR, get_size_inches, _CM\n",
    "import string\n",
    "from scipy.signal import find_peaks\n",
    "import matplotlib.gridspec as gridspec"
   ]
  },
  {
   "cell_type": "code",
   "execution_count": null,
   "metadata": {},
   "outputs": [],
   "source": [
    "sim = simDir(\"/nfs/arupclab001/davidgoh/CoupledEPCondensates/workspace/05_TimeDelay/20240718_LowDegradationHighInteractionLowAccuracy/M1_1.0_b_-0.25_g_-0.5_c_0.4_k_0.05_kp_0.0137791_c1_3.53_sw_1.0_sr_2.5_cn_5.5_l_10_M3_0.1_kt_0.0_rl_0.0_wd_0.0_t_2000.0_kd_0.04\")\n",
    "sim.run(end=-1); sim.condensate(); sim.rna(); sim.periodicity(tinit=18000);\n",
    "sim.time = sim.time[:sim.com.shape[0]]"
   ]
  },
  {
   "cell_type": "code",
   "execution_count": null,
   "metadata": {},
   "outputs": [],
   "source": [
    "cmap = mpl.colormaps['Set1']\n",
    "primary = \"black\"\n",
    "secondary = cmap(8)\n",
    "accent_negative = cmap(0)\n",
    "accent_positive = cmap(1)"
   ]
  },
  {
   "cell_type": "code",
   "execution_count": null,
   "metadata": {},
   "outputs": [],
   "source": [
    "t = 17000\n",
    "h = 5\n",
    "w = 50\n",
    "start = np.argmin((sim.time - t)**2)\n",
    "peaks = find_peaks(sim.com[start:,0],height=h,width=w)[0]+start\n",
    "troughs = find_peaks(-sim.com[start:,0],height=-h,width=w)[0]+start"
   ]
  },
  {
   "cell_type": "code",
   "execution_count": null,
   "metadata": {},
   "outputs": [],
   "source": [
    "height = 8.5 * 0.3\n",
    "fig, ax = plt.subplots(1,1)\n",
    "fig.set_size_inches(8.5*_CM,height*1*_CM)\n",
    "ax.plot(sim.time,sim.com[:,0],color=primary)\n",
    "ax.set_xlabel(\"Time\")\n",
    "ax.set_ylabel(\"Position\")\n",
    "ax.set_xlim((15000,30000))\n",
    "ax.set_yticks([0,5,10])\n",
    "# ax = ax.twinx()\n",
    "# ax.plot(sim.time,sim.rna_amount,color=accent_positive)\n",
    "# fig.savefig(_FIGURE_DIR / \"Fig5_COM.pdf\",bbox_inches='tight')"
   ]
  },
  {
   "cell_type": "code",
   "execution_count": null,
   "metadata": {},
   "outputs": [],
   "source": [
    "sim = simDir(\"/nfs/arupclab001/davidgoh/CoupledEPCondensates/workspace/05_TimeDelay/20240812_LowDegradationNormalInteractionLowAccuracy/M1_1.0_b_-0.25_g_-0.1_c_0.06_k_0.05_kp_0.0137791_c1_3.53_sw_1.0_sr_2.5_cn_5.5_l_10_M3_0.1_kt_0.0_rl_0.0_wd_0.0_t_12000.0_kd_0.04\")\n",
    "sim.run(); sim.condensate(); sim.rna()"
   ]
  },
  {
   "cell_type": "code",
   "execution_count": null,
   "metadata": {},
   "outputs": [],
   "source": [
    "t = 17000\n",
    "h = 5\n",
    "w = 50\n",
    "start = np.argmin((sim.time - t)**2)\n",
    "peaks = find_peaks(sim.com[start:,0],height=h,width=w)[0]+start\n",
    "troughs = find_peaks(-sim.com[start:,0],height=-h,width=w)[0]+start"
   ]
  },
  {
   "cell_type": "code",
   "execution_count": null,
   "metadata": {},
   "outputs": [],
   "source": [
    "height = 8.5 * 0.25\n",
    "fig, ax = plt.subplots(2,1,sharex=True)\n",
    "fig.set_size_inches(8.5*_CM,height*2*_CM)\n",
    "ax[0].plot(sim.time,sim.com[:,0],color=primary)\n",
    "# ax[0].set_xlabel(\"Time\")\n",
    "ax[0].set_ylabel(\"Position ($\\ell$)\")\n",
    "ax[0].set_yticks([0,5,10])\n",
    "ax[0].set_ylim([-2,10])\n",
    "ax[0].tick_params(labelbottom=False)    \n",
    "ax[1].plot(sim.time,sim.rna_amount,color=primary)\n",
    "ax[1].set_xlabel(\"Time ($1/k_d$)\")\n",
    "ax[1].set_ylabel(\"[RNA]\")\n",
    "ax[1].set_ylim([40,120])\n",
    "ax[0].set_xlim(left=20000,right=100000)\n",
    "# ax.annotate(f'{uc}', xy=(-0.2,1), weight='bold', xycoords=\"axes fraction\",\n",
    "#             bbox=dict(boxstyle='round,pad=0.3', edgecolor='none', facecolor='white'))\n",
    "fig.savefig(_FIGURE_DIR / \"Fig5_COM.pdf\",bbox_inches='tight')"
   ]
  },
  {
   "cell_type": "code",
   "execution_count": null,
   "metadata": {},
   "outputs": [],
   "source": [
    "height = 8.1 * 0.3\n",
    "fig, ax = plt.subplots(1,1)\n",
    "fig.set_size_inches(8.1*_CM,height*1*_CM)\n",
    "ax.plot(sim.time,sim.com[:,0],color=primary)\n",
    "ax.set_xlabel(\"Time\")\n",
    "ax.set_ylabel(\"Position\")\n",
    "ax.set_yticks([0,5,10])\n",
    "ax.set_ylim([-2,10])\n",
    "ax2 = ax.twinx()\n",
    "ax2.plot(sim.time,sim.rna_amount/np.sum(sim.geometry.mesh.cellVolumes),color=accent_positive)\n",
    "ax.set_zorder(ax2.get_zorder()+1)\n",
    "ax.set_frame_on(False)\n",
    "ax2.set_ylabel(\"[RNA]\")\n",
    "ax2.set_ylim([20/np.sum(sim.geometry.mesh.cellVolumes),120/np.sum(sim.geometry.mesh.cellVolumes)])\n",
    "ax2.spines['right'].set_visible(True)\n",
    "ax2.spines['right'].set_color(accent_positive)\n",
    "ax2.tick_params(axis='y', colors=accent_positive)\n",
    "ax2.yaxis.label.set_color(accent_positive)\n",
    "ax.set_xlim(left=20000,right=100000)\n",
    "# ax.annotate(f'{uc}', xy=(-0.2,1), weight='bold', xycoords=\"axes fraction\",\n",
    "#             bbox=dict(boxstyle='round,pad=0.3', edgecolor='none', facecolor='white'))\n",
    "fig.savefig(_FIGURE_DIR / \"Fig5_COM.pdf\",bbox_inches='tight')"
   ]
  },
  {
   "cell_type": "code",
   "execution_count": null,
   "metadata": {},
   "outputs": [],
   "source": [
    "\n",
    "# fig.savefig(_FIGURE_DIR / \"Fig5_RNA.pdf\",bbox_inches='tight')"
   ]
  },
  {
   "cell_type": "code",
   "execution_count": null,
   "metadata": {},
   "outputs": [],
   "source": [
    "def shape(xy,c,ax,cmap=\"Blues\",vmin=None,vmax=None,xlim=None,ylim=None, levels=None):\n",
    "    x = xy[:,0]\n",
    "    y = xy[:,1]\n",
    "    ax.tricontourf(x,y,c,cmap=cmap,\n",
    "                   vmin=vmin,vmax=vmax,levels=levels)\n",
    "    ax.set_aspect(1)\n",
    "    for spine in ax.spines:\n",
    "        ax.spines[spine].set_visible(False)\n",
    "        ax.tick_params(\n",
    "        axis='both',\n",
    "        which='both',\n",
    "        bottom=False,\n",
    "        left=False,\n",
    "        labelbottom=False,\n",
    "        labelleft=False)\n",
    "    ax.set_xlim(xlim)\n",
    "    ax.set_ylim(ylim)"
   ]
  },
  {
   "cell_type": "code",
   "execution_count": null,
   "metadata": {},
   "outputs": [],
   "source": [
    "time = peaks[-1]\n",
    "fig,ax = plt.subplots()\n",
    "fig.set_size_inches(2*_CM,2*_CM)\n",
    "xy = sim.xy[sim.mask[time,:],:]\n",
    "conc = sim.concentration_profile[0][time][sim.mask[time,:]]\n",
    "shape(xy,conc,ax,vmin=4,vmax=4.5,levels=3)\n",
    "ax.scatter(x=0, y=0, s=30, color='green',marker=\".\")\n",
    "# ax.set_xlim(left=-1)\n",
    "plt.savefig(_FIGURE_DIR/\"Fig5_DropletPeak\")"
   ]
  },
  {
   "cell_type": "code",
   "execution_count": null,
   "metadata": {},
   "outputs": [],
   "source": [
    "time = troughs[-1]\n",
    "fig,ax = plt.subplots()\n",
    "fig.set_size_inches(2*_CM,2*_CM)\n",
    "xy = sim.xy[sim.mask[time,:],:]\n",
    "conc = sim.concentration_profile[0][time][sim.mask[time,:]]\n",
    "shape(xy,conc,ax,levels=3)\n",
    "ax.set_xlim(left=-3)\n",
    "ax.scatter(x=0, y=0, s=30, color='#9DD08A',marker=\".\")\n",
    "plt.savefig(_FIGURE_DIR/\"Fig5_DropletTrough\")"
   ]
  },
  {
   "cell_type": "code",
   "execution_count": null,
   "metadata": {},
   "outputs": [],
   "source": [
    "sim.concentration_profile[2][time]"
   ]
  },
  {
   "cell_type": "code",
   "execution_count": null,
   "metadata": {},
   "outputs": [],
   "source": [
    "time = troughs[-1]\n",
    "fig,ax = plt.subplots()\n",
    "fig.set_size_inches(2*_CM,2*_CM)\n",
    "radius=8\n",
    "mask = np.sum(sim.xy**2,axis=1)<radius**2\n",
    "xy = sim.xy[mask,:]\n",
    "conc = sim.concentration_profile[1][time][mask]\n",
    "shape(xy,conc,ax,levels=3,cmap=\"Reds\",vmin=sim.plotting_range[1][0],vmax=sim.plotting_range[1][1])\n",
    "ax.scatter(x=0, y=0, s=30, color='#9DD08A',marker=\".\")\n",
    "plt.savefig(_FIGURE_DIR/\"Fig5_DropletTrough\")"
   ]
  },
  {
   "cell_type": "code",
   "execution_count": null,
   "metadata": {},
   "outputs": [],
   "source": [
    "time = peaks[-1]\n",
    "fig,ax = plt.subplots()\n",
    "fig.set_size_inches(2*_CM,2*_CM)\n",
    "radius=8\n",
    "mask = np.sum(sim.xy**2,axis=1)<radius**2\n",
    "xy = sim.xy[mask,:]\n",
    "conc = sim.concentration_profile[1][time][mask]\n",
    "shape(xy,conc,ax,levels=3,cmap=\"Reds\",vmin=sim.plotting_range[1][0],vmax=sim.plotting_range[1][1])\n",
    "ax.scatter(x=0, y=0, s=30, color='#9DD08A',marker=\".\")\n",
    "plt.savefig(_FIGURE_DIR/\"Fig5_DropletTrough\")"
   ]
  }
 ],
 "metadata": {
  "kernelspec": {
   "display_name": "Python 3",
   "language": "python",
   "name": "python3"
  },
  "language_info": {
   "codemirror_mode": {
    "name": "ipython",
    "version": 3
   },
   "file_extension": ".py",
   "mimetype": "text/x-python",
   "name": "python",
   "nbconvert_exporter": "python",
   "pygments_lexer": "ipython3",
   "version": "3.10.15"
  }
 },
 "nbformat": 4,
 "nbformat_minor": 2
}
