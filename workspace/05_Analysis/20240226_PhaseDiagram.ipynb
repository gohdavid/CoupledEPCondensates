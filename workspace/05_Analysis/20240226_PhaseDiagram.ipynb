{
 "cells": [
  {
   "cell_type": "code",
   "execution_count": 3,
   "metadata": {},
   "outputs": [],
   "source": [
    "from utils.analysis.tools import simDir, periodicity_plot\n",
    "from pathlib import Path\n",
    "import pandas as pd\n",
    "import seaborn as sns\n",
    "import numpy as np\n",
    "import matplotlib.pyplot as plt\n",
    "import multiprocessing as mp\n",
    "from tqdm import tqdm\n",
    "from utils import plot"
   ]
  },
  {
   "cell_type": "code",
   "execution_count": 4,
   "metadata": {},
   "outputs": [],
   "source": [
    "class periodicityPhaseDiagram:\n",
    "    def __init__(self,\n",
    "                 directory: str,\n",
    "                 sweep_file: str = \"sweep_parameters.txt\"):\n",
    "        self.sweep_directory = Path(directory)\n",
    "        self.sweep_file = self.sweep_directory / sweep_file\n",
    "        self.sweep_parameters = [line.split(\",\")[0] for line in self.sweep_file.read_text().splitlines()]\n",
    "\n",
    "    def extract_data(self):\n",
    "        simdir_paths = [file.parent for file in self.sweep_directory.glob(\"./*/input_params.txt\")]\n",
    "        processes = mp.Pool(8-1)\n",
    "        self.results = tqdm(processes.imap(self.worker,simdir_paths),total=len(simdir_paths))\n",
    "        self.df = pd.DataFrame(self.results)\n",
    "    \n",
    "    def worker(self,worker_input):\n",
    "        simdir_path = worker_input\n",
    "        sim = simDir(simdir_path)\n",
    "        param_values = sim.params\n",
    "        relevant_params = {parameter: str(param_values[parameter]) for parameter in self.sweep_parameters}\n",
    "        sim.run()\n",
    "        sim.rna()\n",
    "        sim.condensate()\n",
    "        sim.periodicity(15000)\n",
    "        period = np.diff(sim.time[sim.peaks],axis=0).mean()\n",
    "        shortest = np.min([sim.peaks.shape,sim.troughs.shape])\n",
    "        peaks = sim.peaks[:shortest]\n",
    "        troughs = sim.troughs[:shortest]\n",
    "        com_height = np.abs(sim.com[peaks,0]-sim.com[troughs,0]).mean()\n",
    "        radius_variance_height = np.abs(sim.radius_variance[peaks]-sim.radius_variance[troughs]).mean()\n",
    "        eccentricity_height = np.abs(sim.eccentricity[peaks]-sim.eccentricity[troughs]).mean()\n",
    "        rna_height = np.abs(sim.rna_amount[peaks]-sim.rna_amount[troughs]).mean()\n",
    "        if troughs.size == 0 or peaks.size == 0:\n",
    "            return relevant_params | {\"period\": period,\n",
    "                                  \"com_height\": com_height,\n",
    "                                  \"radius_variance_height\": radius_variance_height,\n",
    "                                  \"eccentricity_height\": eccentricity_height,\n",
    "                                  \"rna_height\": rna_height,\n",
    "                                  \"xy_trough_end\": np.nan,\n",
    "                                  \"xy_peak_end\": np.nan,\n",
    "                                  \"c_trough_end\": np.nan,\n",
    "                                  \"c_peak_end\": np.nan}\n",
    "        else:\n",
    "            xy_trough_end = sim.xy[sim.mask[troughs[-1],:]]\n",
    "            c_trough_end = sim.concentration_profile[0][troughs[-1],:][sim.mask[troughs[-1],:]]\n",
    "            xy_peak_end = sim.xy[sim.mask[peaks[-1],:]]\n",
    "            c_peak_end = sim.concentration_profile[0][peaks[-1],:][sim.mask[peaks[-1],:]]\n",
    "            return relevant_params | {\"period\": period,\n",
    "                                    \"com_height\": com_height,\n",
    "                                    \"radius_variance_height\": radius_variance_height,\n",
    "                                    \"eccentricity_height\": eccentricity_height,\n",
    "                                    \"rna_height\": rna_height,\n",
    "                                    \"xy_trough_end\": xy_trough_end,\n",
    "                                    \"xy_peak_end\": xy_peak_end,\n",
    "                                    \"c_trough_end\": c_trough_end,\n",
    "                                    \"c_peak_end\": c_peak_end}"
   ]
  },
  {
   "cell_type": "code",
   "execution_count": 5,
   "metadata": {},
   "outputs": [],
   "source": [
    "ppd = periodicityPhaseDiagram(\"/nfs/arupclab001/davidgoh/CoupledEPCondensates/workspace/05_TimeDelay/20240223_PhaseDiagramHillFaster\")"
   ]
  },
  {
   "cell_type": "code",
   "execution_count": 6,
   "metadata": {},
   "outputs": [
    {
     "name": "stderr",
     "output_type": "stream",
     "text": [
      " 79%|███████▉  | 101/128 [09:55<02:04,  4.62s/it]"
     ]
    }
   ],
   "source": [
    "ppd.extract_data()"
   ]
  },
  {
   "cell_type": "code",
   "execution_count": null,
   "metadata": {},
   "outputs": [],
   "source": [
    "ppd.df.to_pickle(\"20240223_PhaseDiagramHillFaster.pkl\")"
   ]
  },
  {
   "cell_type": "code",
   "execution_count": null,
   "metadata": {},
   "outputs": [],
   "source": [
    "df = pd.read_pickle(\"20240223_PhaseDiagramHillFaster.pkl\")"
   ]
  },
  {
   "cell_type": "code",
   "execution_count": null,
   "metadata": {},
   "outputs": [],
   "source": [
    "df[\"tau\"] = df[\"tau\"].astype(np.float64)\n",
    "df[\"chiPR_tilde\"] = df[\"chiPR_tilde\"].astype(np.float64)\n",
    "df[\"rna_height\"] = df[\"rna_height\"].astype(np.float64)"
   ]
  },
  {
   "cell_type": "code",
   "execution_count": null,
   "metadata": {},
   "outputs": [],
   "source": [
    "variable = \"rna_height\"\n",
    "rna_pivot = df.pivot_table(index=\"chiPR_tilde\",columns=\"tau\",values=variable)\n",
    "xlabel = \"Time delay\"\n",
    "ylabel = \"Reentrant interactions\"\n",
    "fig, ax = plt.subplots()\n",
    "sns.heatmap(rna_pivot,cmap=\"mako\",ax=ax,cbar_kws={\"label\":r\"$\\Delta$RNA\"})\n",
    "ax.set_xlabel(xlabel)\n",
    "ax.set_ylabel(ylabel)\n",
    "ax.legend()\n",
    "for spine in ax.spines:\n",
    "    ax.spines[spine].set_visible(True)"
   ]
  },
  {
   "cell_type": "code",
   "execution_count": null,
   "metadata": {},
   "outputs": [],
   "source": [
    "variable = \"period\"\n",
    "pivot = df.pivot_table(index=\"chiPR_tilde\",columns=\"tau\",values=variable)\n",
    "pivot[rna_pivot<2] = np.nan\n",
    "xlabel = \"Time delay\"\n",
    "ylabel = \"Reentrant interactions\"\n",
    "fig, ax = plt.subplots()\n",
    "sns.heatmap(pivot,cmap=\"mako\",ax=ax,cbar_kws={\"label\":\"Mean period\"})\n",
    "ax.set_xlabel(xlabel)\n",
    "ax.set_ylabel(ylabel)\n",
    "ax.legend()\n",
    "for spine in ax.spines:\n",
    "    ax.spines[spine].set_visible(True)"
   ]
  },
  {
   "cell_type": "code",
   "execution_count": null,
   "metadata": {},
   "outputs": [],
   "source": [
    "df.columns"
   ]
  },
  {
   "cell_type": "code",
   "execution_count": null,
   "metadata": {},
   "outputs": [],
   "source": [
    "variable = \"radius_variance_height\"\n",
    "pivot = df.pivot_table(index=\"chiPR_tilde\",columns=\"tau\",values=variable)\n",
    "xlabel = \"Time delay\"\n",
    "ylabel = \"Reentrant interactions\"\n",
    "fig, ax = plt.subplots()\n",
    "sns.heatmap(pivot,cmap=\"mako\",ax=ax,cbar_kws={\"label\":r\"$\\Delta \\mathrm{Var}(r)$\"})\n",
    "ax.set_xlabel(xlabel)\n",
    "ax.set_ylabel(ylabel)\n",
    "ax.legend()\n",
    "for spine in ax.spines:\n",
    "    ax.spines[spine].set_visible(True)"
   ]
  },
  {
   "cell_type": "code",
   "execution_count": null,
   "metadata": {},
   "outputs": [],
   "source": [
    "variable = \"eccentricity_height\"\n",
    "pivot = df.pivot_table(index=\"chiPR_tilde\",columns=\"tau\",values=variable)\n",
    "xlabel = \"Time delay\"\n",
    "ylabel = \"Reentrant interactions\"\n",
    "fig, ax = plt.subplots()\n",
    "sns.heatmap(pivot,cmap=\"mako\",ax=ax,cbar_kws={\"label\":r\"$\\Delta$Eccentricity\"})\n",
    "ax.set_xlabel(xlabel)\n",
    "ax.set_ylabel(ylabel)\n",
    "ax.legend()\n",
    "for spine in ax.spines:\n",
    "    ax.spines[spine].set_visible(True)"
   ]
  },
  {
   "cell_type": "code",
   "execution_count": null,
   "metadata": {},
   "outputs": [],
   "source": [
    "variable = \"com_height\"\n",
    "pivot = df.pivot_table(index=\"chiPR_tilde\",columns=\"tau\",values=variable)\n",
    "xlabel = \"Time delay\"\n",
    "ylabel = \"Reentrant interactions\"\n",
    "fig, ax = plt.subplots()\n",
    "sns.heatmap(pivot,cmap=\"mako\",ax=ax,cbar_kws={\"label\":r\"$\\Delta$COM\"})\n",
    "ax.set_xlabel(xlabel)\n",
    "ax.set_ylabel(ylabel)\n",
    "ax.legend()\n",
    "for spine in ax.spines:\n",
    "    ax.spines[spine].set_visible(True)"
   ]
  },
  {
   "cell_type": "code",
   "execution_count": null,
   "metadata": {},
   "outputs": [],
   "source": [
    "df.columns"
   ]
  },
  {
   "cell_type": "code",
   "execution_count": null,
   "metadata": {},
   "outputs": [],
   "source": [
    "df.loc[df[\"rna_height\"]<2,\"period\"] = np.nan"
   ]
  },
  {
   "cell_type": "code",
   "execution_count": null,
   "metadata": {},
   "outputs": [],
   "source": [
    "fig, ax = plt.subplots()\n",
    "sns.lineplot(df,x=\"tau\",y=\"period\",hue=\"chiPR_tilde\",palette=\"crest\",\n",
    "             marker=\"o\",legend=\"full\",ax=ax)\n",
    "taus = np.arange(25,450,50)\n",
    "ax.plot(taus,2*taus,color=\"grey\",linestyle=\"--\",)\n",
    "ax.annotate(text=r\"$y=2\\tau$\",xy=(100,240),rotation=np.rad2deg(np.arctan(1/2)))\n",
    "ax.legend(title=\"Reentrant interactions\")\n",
    "ax.set_ylabel(\"Mean period\")\n",
    "ax.set_xlabel(\"Time Delay\")\n",
    "ax.legend(bbox_to_anchor=(1, 1))\n"
   ]
  },
  {
   "cell_type": "code",
   "execution_count": null,
   "metadata": {},
   "outputs": [],
   "source": [
    "df[\"period_diff\"] = df[\"period\"]-2*df[\"tau\"]\n",
    "df.loc[df[\"rna_height\"]<2,\"period_diff\"] = np.nan"
   ]
  },
  {
   "cell_type": "code",
   "execution_count": null,
   "metadata": {},
   "outputs": [],
   "source": [
    "fig, ax = plt.subplots()\n",
    "sns.lineplot(df,x=\"tau\",y=\"period_diff\",hue=\"chiPR_tilde\",palette=\"crest\",\n",
    "             marker=\"o\",legend=\"full\",ax=ax)\n",
    "taus = np.arange(25,450,50)\n",
    "ax.legend(title=\"Reentrant interactions\")\n",
    "ax.set_ylabel(r\"Mean period - 2 $\\times$ time delay\")\n",
    "ax.set_xlabel(\"Time Delay\")\n",
    "ax.legend(bbox_to_anchor=(1, 1),title=\"Reentrant\\ninteractions\")\n"
   ]
  },
  {
   "cell_type": "code",
   "execution_count": null,
   "metadata": {},
   "outputs": [],
   "source": [
    "fig, ax = plt.subplots()\n",
    "sns.lineplot(df,x=\"chiPR_tilde\",y=\"period_diff\",hue=\"tau\",palette=\"crest\",\n",
    "             marker=\"o\",legend=\"full\",ax=ax)\n",
    "taus = np.arange(25,450,50)\n",
    "ax.legend(title=\"Reentrant interactions\")\n",
    "ax.set_ylabel(r\"Mean period - 2 $\\times$ time delay\")\n",
    "ax.set_xlabel(\"Reentrant Interactions\")\n",
    "ax.legend(bbox_to_anchor=(1, 1),title=\"Time\\ndelay\")\n"
   ]
  },
  {
   "cell_type": "code",
   "execution_count": null,
   "metadata": {},
   "outputs": [],
   "source": [
    "sim = simDir(\"/nfs/arupclab001/davidgoh/CoupledEPCondensates/workspace/05_TimeDelay/20240223_PhaseDiagramHillFaster/M1_1.0_b_-0.25_g_-0.1_c_0.03_k_0.05_kp_0.2_c1_3.53_sw_1.0_sr_2.5_cn_5.5_l_10_M3_0.1_kt_0.0_rl_0.0_wd_0.0_t_350.0_kd_1.0\")\n",
    "sim.run()\n",
    "sim.condensate()\n",
    "sim.rna()"
   ]
  },
  {
   "cell_type": "code",
   "execution_count": null,
   "metadata": {},
   "outputs": [],
   "source": [
    "pivot"
   ]
  },
  {
   "cell_type": "code",
   "execution_count": null,
   "metadata": {},
   "outputs": [],
   "source": [
    "def periodicity_plot(sim,threshold,leftlim=0,rightlim=20000):\n",
    "    sim.periodicity(threshold)\n",
    "    rna = np.ravel(sim.rna_amount)\n",
    "    com = np.ravel(sim.com[:,0])\n",
    "    time = np.raval(sim.time)\n",
    "    if time.size > com.size:\n",
    "        time = time[:com.size]\n",
    "    fig,axes = plt.subplots(4,1,sharex=True)\n",
    "    fig.set_size_inches(5,3)\n",
    "    axes[0].plot(time,rna)\n",
    "    start = np.argmin((time-threshold)**2)\n",
    "    axes[0].scatter(time[sim.peaks],rna[sim.peaks],alpha=0.3)\n",
    "    axes[0].scatter(time[sim.troughs],rna[sim.troughs],alpha=0.3)\n",
    "    diffs = np.diff(time[sim.peaks],axis=0)\n",
    "    locst = (time[sim.peaks][:-1] + time[sim.peaks][1:])/2\n",
    "    for i in range(len(diffs)):\n",
    "        axes[0].annotate(f\"{diffs[i].item():.0f}\",(locst[i],0),ha='center',rotation=90,\n",
    "                         va='bottom')\n",
    "    axes[1].plot(time,com)\n",
    "    axes[2].plot(time,np.var(sim.radius,axis=1))\n",
    "    axes[3].plot(time,sim.eccentricity)\n",
    "    [ax.axvline(i, color='grey', ls='dashed') for i in time[sim.peaks] for ax in axes]\n",
    "    axes[3].set_xlabel(\"Time\")\n",
    "    axes[0].set_ylabel(\"RNA\\nAmount\")\n",
    "    axes[1].set_ylabel(\"Center of\\nMass\")\n",
    "    axes[2].set_ylabel(\"Variance of\\nRadius\")\n",
    "    axes[3].set_ylabel(\"Eccentricity\")\n",
    "    axes[3].set_xlim(left=leftlim,right=rightlim)\n",
    "    return fig,axes,sim.peaks,sim.troughs"
   ]
  },
  {
   "cell_type": "code",
   "execution_count": null,
   "metadata": {},
   "outputs": [],
   "source": [
    "periodicity_plot(sim,threshold=10000)"
   ]
  },
  {
   "cell_type": "code",
   "execution_count": null,
   "metadata": {},
   "outputs": [],
   "source": [
    "pivot"
   ]
  },
  {
   "cell_type": "code",
   "execution_count": null,
   "metadata": {},
   "outputs": [],
   "source": [
    "import matplotlib as mpl\n",
    "c_white_trans = mpl.colors.colorConverter.to_rgba('white',alpha = 0)\n",
    "c_white= mpl.colors.colorConverter.to_rgba('white',alpha = 1)\n",
    "cmap_white = mpl.colors.LinearSegmentedColormap.from_list('rb_cmap',[c_white_trans,c_white],512)\n",
    "c_black_trans = mpl.colors.colorConverter.to_rgba('black',alpha = 0)\n",
    "c_black= mpl.colors.colorConverter.to_rgba('black',alpha = 1)\n",
    "cmap_black = mpl.colors.LinearSegmentedColormap.from_list('rb_cmap',[c_black_trans,c_black],512)\n",
    "def shape(xy,c,ax,cmap=cmap_rb):\n",
    "    x = xy[:,0]\n",
    "    y = xy[:,1]\n",
    "    ax.tricontourf(x,y,c,cmap=cmap)\n",
    "    ax.set_aspect(1)\n",
    "    for spine in ax.spines:\n",
    "        ax.spines[spine].set_visible(False)\n",
    "        ax.tick_params(\n",
    "        axis='both',\n",
    "        which='both',\n",
    "        bottom=False,\n",
    "        left=False,\n",
    "        labelbottom=False,\n",
    "        labelleft=False)"
   ]
  },
  {
   "cell_type": "code",
   "execution_count": null,
   "metadata": {},
   "outputs": [],
   "source": [
    "mask_pivot.loc[::-1]"
   ]
  },
  {
   "cell_type": "code",
   "execution_count": null,
   "metadata": {},
   "outputs": [],
   "source": [
    "mask_pivot = df.pivot(index=\"chiPR_tilde\",columns=\"tau\",values=[\"xy_peak_end\", \"c_peak_end\"])\n",
    "fig,axes=plt.subplots(len(mask_pivot[\"xy_peak_end\"].index),len(mask_pivot[\"xy_peak_end\"].columns))\n",
    "fig.set_size_inches(18,15)\n",
    "for ax,arr_xy,arr_c,rna_height in zip(axes.flatten(),\n",
    "                           mask_pivot[\"xy_peak_end\",].to_numpy().flatten(),\n",
    "                           mask_pivot[\"c_peak_end\",].to_numpy().flatten(),\n",
    "                           rna_pivot.to_numpy().flatten()):\n",
    "    if rna_height > 2:\n",
    "        shape(arr_xy,arr_c,ax,cmap_white)\n",
    "    else:\n",
    "         shape(arr_xy,arr_c,ax,cmap_black)\n",
    "plt.savefig(\"mask_alpha_peak.png\", transparent=True, dpi=300, bbox_inches='tight')"
   ]
  },
  {
   "cell_type": "code",
   "execution_count": null,
   "metadata": {},
   "outputs": [],
   "source": [
    "mask_pivot = df.pivot(index=\"chiPR_tilde\",columns=\"tau\",values=[\"xy_trough_end\", \"c_trough_end\"])\n",
    "fig,axes=plt.subplots(len(mask_pivot[\"xy_trough_end\"].index),len(mask_pivot[\"xy_trough_end\"].columns))\n",
    "fig.set_size_inches(18,15)\n",
    "for ax,arr_xy,arr_c,rna_height in zip(axes.flatten(),\n",
    "                           mask_pivot[\"xy_trough_end\",].to_numpy().flatten(),\n",
    "                           mask_pivot[\"c_trough_end\",].to_numpy().flatten(),\n",
    "                           rna_pivot.to_numpy().flatten()):\n",
    "    if rna_height > 2:\n",
    "        shape(arr_xy,arr_c,ax,cmap_white)\n",
    "    else:\n",
    "         shape(arr_xy,arr_c,ax,cmap_black)\n",
    "plt.savefig(\"mask_alpha_trough.png\", transparent=True, dpi=300, bbox_inches='tight')"
   ]
  }
 ],
 "metadata": {
  "kernelspec": {
   "display_name": "CoupledEPCondensates",
   "language": "python",
   "name": "python3"
  },
  "language_info": {
   "codemirror_mode": {
    "name": "ipython",
    "version": 3
   },
   "file_extension": ".py",
   "mimetype": "text/x-python",
   "name": "python",
   "nbconvert_exporter": "python",
   "pygments_lexer": "ipython3",
   "version": "3.10.12"
  }
 },
 "nbformat": 4,
 "nbformat_minor": 2
}
