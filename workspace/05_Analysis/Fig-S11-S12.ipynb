{
 "cells": [
  {
   "cell_type": "code",
   "execution_count": null,
   "metadata": {},
   "outputs": [],
   "source": [
    "from utils.analysis.tools import simDir, periodicity_plot\n",
    "from pathlib import Path\n",
    "import pandas as pd\n",
    "import seaborn as sns\n",
    "import numpy as np\n",
    "import matplotlib.pyplot as plt\n",
    "import multiprocessing as mp\n",
    "from tqdm import tqdm\n",
    "from tqdm.contrib.concurrent import process_map\n",
    "from utils import plot\n",
    "from utils.plot import _FIGURE_DIR, get_size_inches, _CM\n",
    "import time"
   ]
  },
  {
   "cell_type": "code",
   "execution_count": null,
   "metadata": {},
   "outputs": [],
   "source": [
    "class periodicityPhaseDiagram:\n",
    "    def __init__(self,\n",
    "                 directory: str,\n",
    "                 sweep_file: str = \"sweep_parameters.txt\"):\n",
    "        self.sweep_directory = Path(directory)\n",
    "        self.sweep_file = self.sweep_directory / sweep_file\n",
    "        self.sweep_parameters = [line.split(\",\")[0] for line in self.sweep_file.read_text().splitlines()]\n",
    "\n",
    "    def extract_data(self):\n",
    "        simdir_paths = [file.parent for file in self.sweep_directory.glob(\"./*/input_params.txt\")]\n",
    "        self.results = process_map(self.worker,simdir_paths, max_workers=4)\n",
    "        self.df = pd.DataFrame(self.results)\n",
    "    \n",
    "    def worker(self,worker_input,peak_kw={},trough_kw={}):\n",
    "        simdir_path = worker_input\n",
    "        sim = simDir(simdir_path)\n",
    "        param_values = sim.params\n",
    "        relevant_params = {parameter: str(param_values[parameter]) for parameter in self.sweep_parameters}\n",
    "        # print(worker_input)\n",
    "        sim.run()\n",
    "        sim.rna()\n",
    "        sim.condensate()\n",
    "        sim.periodicity(10000,peak_kw,trough_kw)\n",
    "        period = np.diff(sim.time[sim.peaks],axis=0).mean()\n",
    "        shortest = np.min([sim.peaks.shape,sim.troughs.shape])\n",
    "        peaks = sim.peaks[:shortest]\n",
    "        troughs = sim.troughs[:shortest]\n",
    "        com_height = np.abs(sim.com[peaks,0]-sim.com[troughs,0]).mean()\n",
    "        radius_variance_height = np.abs(sim.radius_variance[peaks]-sim.radius_variance[troughs]).mean()\n",
    "        eccentricity_height = np.abs(sim.eccentricity[peaks]-sim.eccentricity[troughs]).mean()\n",
    "        rna_height = np.abs(sim.rna_amount[peaks]-sim.rna_amount[troughs]).mean()\n",
    "        if troughs.size == 0 or peaks.size == 0:\n",
    "            return relevant_params | {\"period\": period,\n",
    "                                  \"com_height\": com_height,\n",
    "                                  \"radius_variance_height\": radius_variance_height,\n",
    "                                  \"eccentricity_height\": eccentricity_height,\n",
    "                                  \"rna_height\": rna_height,\n",
    "                                  \"xy_trough_end\": np.nan,\n",
    "                                  \"xy_peak_end\": np.nan,\n",
    "                                  \"c_trough_end\": np.nan,\n",
    "                                  \"c_peak_end\": np.nan}\n",
    "        else:\n",
    "            xy_trough_end = sim.xy[sim.mask[troughs[-1],:]]\n",
    "            c_trough_end = sim.concentration_profile[0][troughs[-1],:][sim.mask[troughs[-1],:]]\n",
    "            xy_peak_end = sim.xy[sim.mask[peaks[-1],:]]\n",
    "            c_peak_end = sim.concentration_profile[0][peaks[-1],:][sim.mask[peaks[-1],:]]\n",
    "            return relevant_params | {\"period\": period,\n",
    "                                    \"com_height\": com_height,\n",
    "                                    \"radius_variance_height\": radius_variance_height,\n",
    "                                    \"eccentricity_height\": eccentricity_height,\n",
    "                                    \"rna_height\": rna_height,\n",
    "                                    \"xy_trough_end\": xy_trough_end,\n",
    "                                    \"xy_peak_end\": xy_peak_end,\n",
    "                                    \"c_trough_end\": c_trough_end,\n",
    "                                    \"c_peak_end\": c_peak_end}"
   ]
  },
  {
   "cell_type": "code",
   "execution_count": null,
   "metadata": {},
   "outputs": [],
   "source": [
    "ppd = periodicityPhaseDiagram(\"/nfs/arupclab001/davidgoh/CoupledEPCondensates/workspace/05_TimeDelay/20240223_PhaseDiagramHillFaster\")"
   ]
  },
  {
   "cell_type": "code",
   "execution_count": null,
   "metadata": {},
   "outputs": [],
   "source": [
    "# df = df.drop(df.query(\"tau == 2000\").index)\n",
    "# df.iloc[109] = dct"
   ]
  },
  {
   "cell_type": "code",
   "execution_count": null,
   "metadata": {},
   "outputs": [],
   "source": [
    "dct = ppd.worker(\"/nfs/arupclab001/davidgoh/CoupledEPCondensates/workspace/05_TimeDelay/20240223_PhaseDiagramHillFaster/M1_1.0_b_-0.25_g_-0.1_c_0.03_k_0.05_kp_0.2_c1_3.53_sw_1.0_sr_2.5_cn_5.5_l_10_M3_0.1_kt_0.0_rl_0.0_wd_0.0_t_1000.0_kd_1.0\",\n",
    "           peak_kw={\"height\":50})"
   ]
  },
  {
   "cell_type": "code",
   "execution_count": null,
   "metadata": {},
   "outputs": [],
   "source": [
    "dct[\"tau\"] = np.float64(dct[\"tau\"])\n",
    "dct[\"chiPR_tilde\"] = np.float64(dct[\"chiPR_tilde\"])\n",
    "dct[\"rna_height\"] = np.float64(dct[\"rna_height\"])"
   ]
  },
  {
   "cell_type": "code",
   "execution_count": null,
   "metadata": {},
   "outputs": [],
   "source": [
    "# df.to_pickle(\"20240223_PhaseDiagramHillFasterMoreFixed.pkl\")"
   ]
  },
  {
   "cell_type": "code",
   "execution_count": null,
   "metadata": {},
   "outputs": [],
   "source": [
    "df = pd.read_pickle(\"/nfs/arupclab001/davidgoh/CoupledEPCondensates/workspace/05_Analysis/20240223_PhaseDiagramHillFasterMoreFixed.pkl\")\n",
    "df[\"tau\"] = df[\"tau\"].astype(np.float64)\n",
    "df[\"chiPR_tilde\"] = df[\"chiPR_tilde\"].astype(np.float64)\n",
    "df[\"rna_height\"] = df[\"rna_height\"].astype(np.float64)"
   ]
  },
  {
   "cell_type": "code",
   "execution_count": null,
   "metadata": {},
   "outputs": [],
   "source": [
    "sim = simDir(\"/nfs/arupclab001/davidgoh/CoupledEPCondensates/workspace/05_TimeDelay/20240223_PhaseDiagramHillFaster/M1_1.0_b_-0.25_g_-0.1_c_0.035_k_0.05_kp_0.2_c1_3.53_sw_1.0_sr_2.5_cn_5.5_l_10_M3_0.1_kt_0.0_rl_0.0_wd_0.0_t_1000.0_kd_1.0\")"
   ]
  },
  {
   "cell_type": "code",
   "execution_count": null,
   "metadata": {},
   "outputs": [],
   "source": [
    "sim.run(); sim.condensate(); sim.rna()"
   ]
  },
  {
   "cell_type": "code",
   "execution_count": null,
   "metadata": {},
   "outputs": [],
   "source": [
    "sim.periodicity(tinit=10000)"
   ]
  },
  {
   "cell_type": "code",
   "execution_count": null,
   "metadata": {},
   "outputs": [],
   "source": [
    "variable = \"rna_height\"\n",
    "rna_pivot = df.pivot_table(index=\"chiPR_tilde\",columns=\"tau\",values=variable)\n",
    "xlabel = \"Time delay\"\n",
    "ylabel = \"Re-entrant repulsion\"\n",
    "fig, ax = plt.subplots()\n",
    "fig.set_size_inches(8.5*_CM,8.5*_CM*1/2)\n",
    "rna_pivot = rna_pivot.loc[::-1]\n",
    "sns.heatmap(rna_pivot,cmap=\"Blues\",ax=ax,cbar_kws={\"label\":r\"Peak-trough $\\Delta$RNA\"},\n",
    "            vmin=0,vmax=40)\n",
    "ax.set_xlabel(xlabel)\n",
    "ax.set_ylabel(ylabel)\n",
    "ax.legend()\n",
    "for spine in ax.spines:\n",
    "    ax.spines[spine].set_visible(True)\n",
    "cbar = ax.collections[0].colorbar\n",
    "cbar.outline.set_color('black')\n",
    "cbar.outline.set_linewidth(1)\n",
    "cbar.ax.set_yticklabels(cbar.ax.get_yticklabels(), rotation=90)\n",
    "plt.savefig(_FIGURE_DIR/\"SIFig_Oscillation_DeltaRNA_PhaseDiagram\")"
   ]
  },
  {
   "cell_type": "code",
   "execution_count": null,
   "metadata": {},
   "outputs": [],
   "source": [
    "variable = \"period\"\n",
    "pivot = df.pivot_table(index=\"chiPR_tilde\",columns=\"tau\",values=variable,dropna=False)\n",
    "pivot.columns = pivot.columns.astype(int)\n",
    "pivot[rna_pivot<2] = np.nan\n",
    "pivot = pivot.loc[::-1]\n",
    "xlabel = \"Time delay\"\n",
    "ylabel = \"Re-entrant repulsion\"\n",
    "fig, ax = plt.subplots()\n",
    "fig.set_size_inches(8.5*_CM,8.5*_CM*1/2)\n",
    "g = sns.heatmap(pivot,cmap=\"Blues\",ax=ax,cbar_kws={\"label\":\"Period\"},\n",
    "                vmin=0,vmax=2500)\n",
    "ax.set_xlabel(xlabel)\n",
    "ax.set_ylabel(ylabel)\n",
    "ax.legend()\n",
    "for spine in ax.spines:\n",
    "    ax.spines[spine].set_visible(True)\n",
    "cbar = ax.collections[0].colorbar\n",
    "cbar.outline.set_color('black')\n",
    "cbar.outline.set_linewidth(1)\n",
    "cbar.ax.set_yticklabels(cbar.ax.get_yticklabels(), rotation=90)\n",
    "plt.savefig(_FIGURE_DIR/\"SIFig_Oscillation_Period_PhaseDiagram\")"
   ]
  },
  {
   "cell_type": "code",
   "execution_count": null,
   "metadata": {},
   "outputs": [],
   "source": [
    "variable = \"rna_height\"\n",
    "pivot = df.pivot_table(index=\"chiPR_tilde\",columns=\"tau\",values=variable,dropna=False)\n",
    "fig, axes = plt.subplots(int(len(pivot.index)/2),2,sharey=True,sharex=True)\n",
    "fig.set_size_inches(8.5*_CM,8.5*0.25*4*_CM)\n",
    "axes = axes.flatten()\n",
    "for i, row in enumerate(pivot.iterrows()):\n",
    "    if i < len(pivot.index)-2:\n",
    "        axes[i].tick_params(axis=\"x\",labelbottom=False)\n",
    "    axes[i].plot(row[1].index,row[1].values,color=\"black\",marker=\".\",markersize=5)\n",
    "    axes[i].annotate(f\"$\\gamma$={row[0]}\",(0.05,0.9),xycoords=\"axes fraction\")\n",
    "    axes[i].set_yticks([0, 20, 40])\n",
    "fig.supylabel(\"Peak-trough $\\Delta$RNA\",fontsize=8)\n",
    "fig.supxlabel(\"Time delay\",fontsize=8)\n",
    "fig.tight_layout()\n",
    "plt.savefig(_FIGURE_DIR/\"SIFig_Oscillation_DeltaRNA_Isolated\")"
   ]
  },
  {
   "cell_type": "code",
   "execution_count": null,
   "metadata": {},
   "outputs": [],
   "source": [
    "variable = \"rna_height\"\n",
    "pivot = df.pivot_table(index=\"chiPR_tilde\",columns=\"tau\",values=variable,dropna=False)\n",
    "pivot = pivot.transpose()\n",
    "fig, axes = plt.subplots(int(np.ceil(len(pivot.index)/3)),3,sharex=True,sharey=True)\n",
    "fig.set_size_inches(8.5*_CM,8.5*0.2*5*_CM)\n",
    "axes = axes.flatten()\n",
    "for i, row in enumerate(pivot.iterrows()):\n",
    "    if i < len(pivot.index)-3:\n",
    "        axes[i].tick_params(axis=\"x\",labelbottom=False)\n",
    "    axes[i].plot(row[1].index,row[1].values,color=\"black\",marker=\".\",markersize=5)\n",
    "    axes[i].annotate(r\"$\\tau$\"f\"={row[0]}\",(0.05,0.9),xycoords=\"axes fraction\")\n",
    "    # axes[i].set_xticks([0, 200, 400])\n",
    "    axes[i].set_yticks([0, 20, 40])\n",
    "fig.supylabel(\"Peak-trough $\\Delta$RNA\",fontsize=8)\n",
    "fig.supxlabel(\"Re-entrant repulsion strength\",fontsize=8)\n",
    "fig.tight_layout()\n",
    "plt.savefig(_FIGURE_DIR/\"SIFig_Oscillation_DeltaRNA_Isolated2\")"
   ]
  },
  {
   "cell_type": "code",
   "execution_count": null,
   "metadata": {},
   "outputs": [],
   "source": [
    "variable = \"period\"\n",
    "pivot = df.pivot_table(index=\"chiPR_tilde\",columns=\"tau\",values=variable,dropna=False)\n",
    "pivot[rna_pivot<2] = np.nan\n",
    "fig, axes = plt.subplots(int(len(pivot.index)/2),2,sharey=True,sharex=True)\n",
    "fig.set_size_inches(8.5*_CM,8.5*0.25*4*_CM)\n",
    "axes = axes.flatten()\n",
    "for i, row in enumerate(pivot.iterrows()):\n",
    "    if i < len(pivot.index)-2:\n",
    "        axes[i].tick_params(axis=\"x\",labelbottom=False)\n",
    "    axes[i].plot(row[1].index,row[1].values,color=\"black\",marker=\".\",markersize=5)\n",
    "    axes[i].annotate(f\"$\\gamma$={row[0]}\",(0.05,0.9),xycoords=\"axes fraction\")\n",
    "    axes[i].set_xticks([0, 500, 1000])\n",
    "    axes[i].set_yticks([0, 1000, 2000])\n",
    "fig.supylabel(\"Period\",fontsize=8)\n",
    "fig.supxlabel(\"Time delay\",fontsize=8)\n",
    "# fig.texts[0].set_position((-0.05, 0.5))\n",
    "fig.tight_layout()\n",
    "plt.savefig(_FIGURE_DIR/\"SIFig_Oscillation_Period_Isolated\")"
   ]
  },
  {
   "cell_type": "code",
   "execution_count": null,
   "metadata": {},
   "outputs": [],
   "source": [
    "variable = \"period\"\n",
    "pivot = df.pivot_table(index=\"chiPR_tilde\",columns=\"tau\",values=variable,dropna=False)\n",
    "pivot[rna_pivot<2] = np.nan\n",
    "fig, axes = plt.subplots(int(len(pivot.index)/2),2,sharey=True,sharex=True)\n",
    "fig.set_size_inches(8.5*_CM,8.5*0.25*4*_CM)\n",
    "axes = axes.flatten()\n",
    "for i, row in enumerate(pivot.iterrows()):\n",
    "    if i < len(pivot.index)-2:\n",
    "        axes[i].tick_params(axis=\"x\",labelbottom=False)\n",
    "    axes[i].plot(row[1].index,row[1].values-2*row[1].index,color=\"black\",marker=\".\",markersize=5)\n",
    "    axes[i].annotate(f\"$\\gamma$={row[0]}\",(0.05,0.9),xycoords=\"axes fraction\")\n",
    "    axes[i].set_xticks([0, 500, 1000])\n",
    "    axes[i].set_yticks([0, 200, 400])\n",
    "fig.supylabel(r\"Period - 2$\\times$time delay\",fontsize=8)\n",
    "fig.supxlabel(\"Time delay\",fontsize=8)\n",
    "fig.tight_layout()\n",
    "plt.savefig(_FIGURE_DIR/\"SIFig_Oscillation_PeriodMin2Tau_Isolated\")"
   ]
  },
  {
   "cell_type": "code",
   "execution_count": null,
   "metadata": {},
   "outputs": [],
   "source": [
    "variable = \"period\"\n",
    "pivot = df.pivot_table(index=\"chiPR_tilde\",columns=\"tau\",values=variable,dropna=False)\n",
    "pivot = pivot.transpose()\n",
    "pivot[rna_pivot[::-1].T<2] = np.nan\n",
    "fig, axes = plt.subplots(int(np.ceil(len(pivot.index)/3)),3,sharex=True,sharey=True)\n",
    "fig.set_size_inches(8.5*_CM,8.5*0.2*5*_CM)\n",
    "axes = axes.flatten()\n",
    "for i, row in enumerate(pivot.iterrows()):\n",
    "    if i < len(pivot.index)-3:\n",
    "        axes[i].tick_params(axis=\"x\",labelbottom=False)\n",
    "    axes[i].plot(row[1].index,row[1].values,color=\"black\",marker=\".\",markersize=5)\n",
    "    axes[i].annotate(r\"$\\tau$\"f\"={row[0]}\",(0.05,0.9),xycoords=\"axes fraction\")\n",
    "fig.supylabel(\"Period\",fontsize=8)\n",
    "fig.supxlabel(\"Re-entrant repulsion strength\",fontsize=8)\n",
    "fig.tight_layout()\n",
    "plt.savefig(_FIGURE_DIR/\"SIFig_Oscillation_Period_Isolated2\")"
   ]
  }
 ],
 "metadata": {
  "kernelspec": {
   "display_name": "CoupledEPCondensates",
   "language": "python",
   "name": "python3"
  },
  "language_info": {
   "codemirror_mode": {
    "name": "ipython",
    "version": 3
   },
   "file_extension": ".py",
   "mimetype": "text/x-python",
   "name": "python",
   "nbconvert_exporter": "python",
   "pygments_lexer": "ipython3",
   "version": "3.10.15"
  }
 },
 "nbformat": 4,
 "nbformat_minor": 2
}
