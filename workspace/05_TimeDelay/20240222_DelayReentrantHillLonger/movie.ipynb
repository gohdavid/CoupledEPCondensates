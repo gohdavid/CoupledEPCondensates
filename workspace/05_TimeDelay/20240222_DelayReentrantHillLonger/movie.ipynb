{
 "cells": [
  {
   "cell_type": "code",
   "execution_count": 26,
   "metadata": {},
   "outputs": [],
   "source": [
    "import utils.file_operations as file_operations\n",
    "import utils.simulation_helper as simulation_helper\n",
    "import argparse\n",
    "import re\n",
    "import h5py\n",
    "import os\n",
    "import moviepy.editor as mp\n",
    "import numpy as np\n",
    "import matplotlib\n",
    "from matplotlib import pyplot as plt\n",
    "from matplotlib import rc\n",
    "\n",
    "def key_funct(x):\n",
    "        return int(x.split('_')[-1].rstrip('.png'))\n",
    "\n",
    "fps = 150\n",
    "\n",
    "movies_directory = \"/nfs/arupclab001/davidgoh/CoupledEPCondensates/workspace/05_TimeDelay/20240222_DelayReentrantHillLonger/M1_1.0_b_-0.25_g_-0.1_c_0.02_k_0.05_kp_0.2_c1_3.53_sw_1.0_sr_2.5_cn_5.5_l_10_M3_0.1_kt_0.0_rl_0.0_wd_0.0_t_300.0_kd_1.0/movies\"\n",
    "\n"
   ]
  },
  {
   "cell_type": "code",
   "execution_count": null,
   "metadata": {},
   "outputs": [],
   "source": [
    "file_names = sorted(list((file_name for file_name in os.listdir(movies_directory) if file_name.endswith('.png'))),\n",
    "                    key=key_funct)\n",
    "# print(file_names)\n",
    "file_paths = [os.path.join(movies_directory, f) for f in file_names]\n",
    "# print(file_paths)\n",
    "clip = mp.ImageSequenceClip(file_paths, fps=fps)\n",
    "clip.write_videofile(os.path.join(path, 'movies', 'Movie.mp4'), fps=fps)\n",
    "clip.close()"
   ]
  },
  {
   "cell_type": "code",
   "execution_count": 2,
   "metadata": {},
   "outputs": [],
   "source": [
    "from pathlib import Path"
   ]
  },
  {
   "cell_type": "code",
   "execution_count": 25,
   "metadata": {},
   "outputs": [],
   "source": [
    "for i in list(Path(movies_directory).glob(\"*.png\")):\n",
    "    if int(os.path.splitext(i.parts[-1].split(\"_\")[2])[0])%10 != 0:\n",
    "        os.remove(i)"
   ]
  }
 ],
 "metadata": {
  "kernelspec": {
   "display_name": "CoupledEPCondensates",
   "language": "python",
   "name": "python3"
  },
  "language_info": {
   "codemirror_mode": {
    "name": "ipython",
    "version": 3
   },
   "file_extension": ".py",
   "mimetype": "text/x-python",
   "name": "python",
   "nbconvert_exporter": "python",
   "pygments_lexer": "ipython3",
   "version": "3.10.12"
  }
 },
 "nbformat": 4,
 "nbformat_minor": 2
}
