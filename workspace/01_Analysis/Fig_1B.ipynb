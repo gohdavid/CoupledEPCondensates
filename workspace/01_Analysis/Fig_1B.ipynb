{
 "cells": [
  {
   "cell_type": "code",
   "execution_count": 1,
   "metadata": {},
   "outputs": [],
   "source": [
    "# Imports\n",
    "from utils.analysis.tools import simDir\n",
    "from pathlib import Path\n",
    "import matplotlib.pyplot as plt\n",
    "import numpy as np\n",
    "import multiprocessing as mp\n",
    "import pandas as pd\n",
    "import seaborn as sns\n",
    "from utils.plot import _FIGURE_DIR, get_size_inches, _CM"
   ]
  },
  {
   "cell_type": "code",
   "execution_count": 2,
   "metadata": {},
   "outputs": [],
   "source": [
    "root = (Path(\"/nfs/arupclab001/davidgoh/\")\n",
    "    / \"CoupledEPCondensates/workspace/\"\n",
    "    / \"01_Flow/20231120_FlowPhaseDiagramHighRes\")"
   ]
  },
  {
   "cell_type": "code",
   "execution_count": 3,
   "metadata": {},
   "outputs": [],
   "source": [
    "sweep_directory = Path(root)\n",
    "sweep_file = sweep_directory / \"sweep_parameters.txt\"\n",
    "sweep_parameters = [line.split(\",\")[0] for line in sweep_file.read_text().splitlines()]"
   ]
  },
  {
   "cell_type": "code",
   "execution_count": 4,
   "metadata": {},
   "outputs": [],
   "source": [
    "simdir_paths = [file.parent for file in sweep_directory.glob(\"./*/input_params.txt\")]"
   ]
  },
  {
   "cell_type": "code",
   "execution_count": 5,
   "metadata": {},
   "outputs": [],
   "source": [
    "col = sweep_parameters + [\"n_condensate\", \"max_eccentricity\", \"max_variance\", \"mean\"]"
   ]
  },
  {
   "cell_type": "code",
   "execution_count": 6,
   "metadata": {},
   "outputs": [],
   "source": [
    "def worker(worker_input):\n",
    "    simdir_path = worker_input\n",
    "    sd = simDir(simdir_path)\n",
    "    val = []\n",
    "    sd.run()\n",
    "    sd.condensate()\n",
    "    val.append(sd.params['k_production'])\n",
    "    val.append(sd.params['initial_values'][0])\n",
    "    \n",
    "    try:\n",
    "        val.append(sd.n_condensate().max())\n",
    "    except:\n",
    "        val.append(0)\n",
    "\n",
    "    if val[2] == 1:\n",
    "        val.append(sd.eccentricity.max())\n",
    "        val.append(np.var(sd.radius,axis=1).max())\n",
    "        val.append(np.mean(sd.radius))\n",
    "    else:\n",
    "        val += [np.nan, np.nan, np.nan]\n",
    "    \n",
    "    return val"
   ]
  },
  {
   "cell_type": "code",
   "execution_count": null,
   "metadata": {},
   "outputs": [],
   "source": [
    "simdir_paths = [file.parent for file in sweep_directory.glob(\"./*/input_params.txt\")]\n",
    "processes = mp.Pool(8-1)\n",
    "results = processes.map(worker,simdir_paths)"
   ]
  },
  {
   "cell_type": "code",
   "execution_count": null,
   "metadata": {},
   "outputs": [],
   "source": [
    "df = pd.DataFrame(results)\n",
    "df.columns = col\n",
    "pivot = df.pivot_table(index=\"initial_values\",\n",
    "    columns=\"k_production\",\n",
    "    values=[\"max_eccentricity\",\"max_variance\",\"mean\", \"n_condensate\"]\n",
    "    )"
   ]
  },
  {
   "cell_type": "code",
   "execution_count": 9,
   "metadata": {},
   "outputs": [],
   "source": [
    "# pivot.to_pickle(\"20240406_pivot.pkl\")\n",
    "pivot = pd.read_pickle(\"/nfs/arupclab001/davidgoh/CoupledEPCondensates/workspace/01_Analysis/20240406_pivot.pkl\")"
   ]
  },
  {
   "cell_type": "code",
   "execution_count": 10,
   "metadata": {},
   "outputs": [],
   "source": [
    "pivot = pivot.sort_index()"
   ]
  },
  {
   "cell_type": "code",
   "execution_count": 11,
   "metadata": {},
   "outputs": [
    {
     "data": {
      "image/png": "[encoded data removed]",
      "text/plain": [
       "<Figure size 334.646x167.323 with 1 Axes>"
      ]
     },
     "metadata": {},
     "output_type": "display_data"
    }
   ],
   "source": [
    "variable = \"n_condensate\"\n",
    "cbarlabel = variable\n",
    "fig, ax = plt.subplots()\n",
    "fig.set_size_inches(8.5/2*_CM,8.5*_CM/4)\n",
    "g = sns.heatmap(pivot[variable][pivot[variable].columns[1:]], ax = ax,\n",
    "                cbar_kws={'label': \"\"},\n",
    "                cmap=sns.color_palette([sns.color_palette(\"Pastel2\")[1],\n",
    "                    sns.color_palette(\"Pastel2\")[2],\n",
    "                    sns.color_palette(\"Pastel2\")[0]]\n",
    "                    ),\n",
    "                vmin=1,vmax=3)\n",
    "colorbar = ax.collections[0].colorbar \n",
    "\n",
    "ax.invert_yaxis()\n",
    "ax.set_xlabel(\"Production rate $k_p$ ($k_d$)\")\n",
    "ax.set_ylabel(\"[Protein]\")\n",
    "for spine in ax.spines:\n",
    "    ax.spines[spine].set_visible(True)\n",
    "# ax.yaxis.set_label_coords(-0.25,0.4)\n",
    "# n = 3\n",
    "# r = colorbar.vmax - colorbar.vmin \n",
    "# colorbar.set_ticks([colorbar.vmin + r / n * (0.5 + i) for i in range(n)])\n",
    "# colorbar.set_ticklabels([\"Flow\", \"Nucleation\", \"Dissolution\"],\n",
    "#                         va=\"center\")\n",
    "# ax.locator_params(axis='y', nbins=8)\n",
    "# ax.locator_params(axis='x', nbins=6)\n",
    "ax.tick_params(axis='x', labelrotation=30)\n",
    "colorbar.remove()\n",
    "plt.savefig(_FIGURE_DIR / \"Fig1_B_PhaseDiagram\")  "
   ]
  }
 ],
 "metadata": {
  "kernelspec": {
   "display_name": "CoupledEPCondensates",
   "language": "python",
   "name": "python3"
  },
  "language_info": {
   "codemirror_mode": {
    "name": "ipython",
    "version": 3
   },
   "file_extension": ".py",
   "mimetype": "text/x-python",
   "name": "python",
   "nbconvert_exporter": "python",
   "pygments_lexer": "ipython3",
   "version": "3.10.15"
  }
 },
 "nbformat": 4,
 "nbformat_minor": 2
}
