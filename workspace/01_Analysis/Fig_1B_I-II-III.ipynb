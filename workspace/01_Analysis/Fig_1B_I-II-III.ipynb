{
 "cells": [
  {
   "cell_type": "code",
   "execution_count": 1,
   "metadata": {},
   "outputs": [],
   "source": [
    "from utils.analysis.tools import simDir\n",
    "from pathlib import Path\n",
    "import matplotlib.pyplot as plt\n",
    "import matplotlib as mpl\n",
    "import numpy as np\n",
    "from matplotlib.cm import get_cmap\n",
    "from matplotlib.colors import LinearSegmentedColormap\n",
    "from utils.plot import _FIGURE_DIR, _CM"
   ]
  },
  {
   "cell_type": "code",
   "execution_count": 2,
   "metadata": {},
   "outputs": [],
   "source": [
    "def shape(xy,c,ax,cmap=\"Blues\",vmin=None,vmax=None,xlim=None,ylim=None,levels=None):\n",
    "    x = xy[:,0]\n",
    "    y = xy[:,1]\n",
    "    ax.tricontourf(x,y,c,cmap=cmap,\n",
    "                   vmin=vmin,vmax=vmax,\n",
    "                   levels=levels)\n",
    "    ax.set_aspect(1)\n",
    "    for spine in ax.spines:\n",
    "        ax.spines[spine].set_visible(False)\n",
    "        ax.tick_params(\n",
    "        axis='both',\n",
    "        which='both',\n",
    "        bottom=False,\n",
    "        left=False,\n",
    "        labelbottom=False,\n",
    "        labelleft=False)\n",
    "    ax.set_xlim(xlim)\n",
    "    ax.set_ylim(ylim)"
   ]
  },
  {
   "cell_type": "code",
   "execution_count": 3,
   "metadata": {},
   "outputs": [],
   "source": [
    "c_trans = mpl.colors.colorConverter.to_rgba('white',alpha = 0)\n",
    "c = mpl.colors.colorConverter.to_rgba('white',alpha = 1)\n",
    "c_cmap = mpl.colors.LinearSegmentedColormap.from_list('b_cmap',[c_trans,c],512)"
   ]
  },
  {
   "cell_type": "code",
   "execution_count": 4,
   "metadata": {},
   "outputs": [
    {
     "name": "stderr",
     "output_type": "stream",
     "text": [
      "WARNING:py.warnings:/tmp/ipykernel_204402/2821586014.py:1: MatplotlibDeprecationWarning: The get_cmap function was deprecated in Matplotlib 3.7 and will be removed two minor releases later. Use ``matplotlib.colormaps[name]`` or ``matplotlib.colormaps.get_cmap(obj)`` instead.\n",
      "  original_blues = get_cmap('Blues')\n",
      "\n"
     ]
    }
   ],
   "source": [
    "original_blues = get_cmap('Blues')\n",
    "colors = original_blues(np.linspace(0, 1, 256))\n",
    "colors[0][-1] = 0\n",
    "custom_blues = LinearSegmentedColormap.from_list(\"CustomBlues\", colors)"
   ]
  },
  {
   "cell_type": "code",
   "execution_count": 5,
   "metadata": {},
   "outputs": [],
   "source": [
    "sim_short = simDir(\"/nfs/arupclab001/davidgoh/CoupledEPCondensates/workspace/01_Flow/20231120_FlowPhaseDiagramHighRes/M1_1.0_beta_-0.25_gamma_-0.1_kappa_0.05_kprod_0.075_c1Init_3.52_noiseVar_0.0_rxnSigma_2.5_seed_5.5_loc_10\")\n",
    "sim_short.run()\n",
    "sim_short.condensate()"
   ]
  },
  {
   "cell_type": "code",
   "execution_count": 6,
   "metadata": {},
   "outputs": [],
   "source": [
    "def sideplot(sim, time, name, levels=None):\n",
    "      shape(sim.xy,\n",
    "            sim.concentration_profile[0][time],\n",
    "            ax,vmin=3.5,vmax=5,cmap='Blues',levels=levels)\n",
    "      ax.scatter(x=0, y=0, s=3, color='#9DD08A',marker=\".\")\n",
    "      ax.scatter(x=10, y=0, s=3, color='black',marker=\".\")\n",
    "      ax.set_ylim(-5,5)\n",
    "      ax.set_xlim(left=-5,right=15)\n",
    "      fig.savefig(_FIGURE_DIR / name)"
   ]
  },
  {
   "cell_type": "code",
   "execution_count": 7,
   "metadata": {},
   "outputs": [
    {
     "data": {
      "image/png": "[encoded data removed]",
      "text/plain": [
       "<Figure size 78.7402x39.3701 with 1 Axes>"
      ]
     },
     "metadata": {},
     "output_type": "display_data"
    },
    {
     "data": {
      "image/png": "[encoded data removed]",
      "text/plain": [
       "<Figure size 78.7402x39.3701 with 1 Axes>"
      ]
     },
     "metadata": {},
     "output_type": "display_data"
    },
    {
     "data": {
      "image/png": "[encoded data removed]",
      "text/plain": [
       "<Figure size 78.7402x39.3701 with 1 Axes>"
      ]
     },
     "metadata": {},
     "output_type": "display_data"
    }
   ],
   "source": [
    "fig,ax = plt.subplots(); fig.set_size_inches(1*_CM,0.5*_CM)\n",
    "time = np.argmax(sim_short.eccentricity)-300\n",
    "sideplot(sim_short,time,\"Fig1_B_Flow_1\",levels=3)\n",
    "fig,ax = plt.subplots(); fig.set_size_inches(1*_CM,0.5*_CM)\n",
    "time = np.argmax(sim_short.eccentricity)-10\n",
    "sideplot(sim_short,time,\"Fig1_B_Flow_2\",levels=3)\n",
    "fig,ax = plt.subplots(); fig.set_size_inches(1*_CM,0.5*_CM)\n",
    "time = 580\n",
    "sideplot(sim_short,time,\"Fig1_B_Flow_3\",levels=3)"
   ]
  },
  {
   "cell_type": "code",
   "execution_count": 8,
   "metadata": {},
   "outputs": [],
   "source": [
    "sim_long = simDir(\"/nfs/arupclab001/davidgoh/CoupledEPCondensates/workspace/01_Flow/20231120_FlowPhaseDiagramHighRes/M1_1.0_beta_-0.25_gamma_-0.1_kappa_0.05_kprod_0.075_c1Init_3.58_noiseVar_0.0_rxnSigma_2.5_seed_5.5_loc_10\")\n",
    "sim_long.run()\n",
    "sim_long.condensate()"
   ]
  },
  {
   "cell_type": "code",
   "execution_count": 9,
   "metadata": {},
   "outputs": [
    {
     "data": {
      "image/png": "[encoded data removed]",
      "text/plain": [
       "<Figure size 78.7402x39.3701 with 1 Axes>"
      ]
     },
     "metadata": {},
     "output_type": "display_data"
    },
    {
     "data": {
      "image/png": "[encoded data removed]",
      "text/plain": [
       "<Figure size 78.7402x39.3701 with 1 Axes>"
      ]
     },
     "metadata": {},
     "output_type": "display_data"
    },
    {
     "data": {
      "image/png": "[encoded data removed]",
      "text/plain": [
       "<Figure size 78.7402x39.3701 with 1 Axes>"
      ]
     },
     "metadata": {},
     "output_type": "display_data"
    }
   ],
   "source": [
    "fig,ax = plt.subplots(); fig.set_size_inches(1*_CM,0.5*_CM)\n",
    "time = np.argmax(sim_long.eccentricity)-100\n",
    "sideplot(sim_long,time,\"Fig1_B_Elongation_1\",levels=3)\n",
    "fig,ax = plt.subplots(); fig.set_size_inches(1*_CM,0.5*_CM)\n",
    "time = np.argmax(sim_long.eccentricity)\n",
    "sideplot(sim_long,time,\"Fig1_B_Elongation_2\",levels=3)\n",
    "fig,ax = plt.subplots(); fig.set_size_inches(1*_CM,0.5*_CM)\n",
    "time = -1\n",
    "sideplot(sim_long,time,\"Fig1_B_Elongation_3\",levels=3)"
   ]
  },
  {
   "cell_type": "code",
   "execution_count": 10,
   "metadata": {},
   "outputs": [],
   "source": [
    "sim_longer = simDir(\"/nfs/arupclab001/davidgoh/CoupledEPCondensates/workspace/01_Flow/20231120_FlowPhaseDiagramHighRes/M1_1.0_beta_-0.25_gamma_-0.1_kappa_0.05_kprod_0.05_c1Init_3.64_noiseVar_0.0_rxnSigma_2.5_seed_5.5_loc_10\")\n",
    "sim_longer.run()\n",
    "sim_longer.condensate()"
   ]
  },
  {
   "cell_type": "code",
   "execution_count": 11,
   "metadata": {},
   "outputs": [
    {
     "data": {
      "image/png": "[encoded data removed]",
      "text/plain": [
       "<Figure size 78.7402x39.3701 with 1 Axes>"
      ]
     },
     "metadata": {},
     "output_type": "display_data"
    },
    {
     "data": {
      "image/png": "[encoded data removed]",
      "text/plain": [
       "<Figure size 78.7402x39.3701 with 1 Axes>"
      ]
     },
     "metadata": {},
     "output_type": "display_data"
    },
    {
     "data": {
      "image/png": "[encoded data removed]",
      "text/plain": [
       "<Figure size 78.7402x39.3701 with 1 Axes>"
      ]
     },
     "metadata": {},
     "output_type": "display_data"
    }
   ],
   "source": [
    "fig,ax = plt.subplots(); fig.set_size_inches(1*_CM,0.5*_CM)\n",
    "time = np.argmax(sim_longer.eccentricity)-100\n",
    "sideplot(sim_longer,time,\"Fig1_B_Elongation2_1\",levels=3)\n",
    "fig,ax = plt.subplots(); fig.set_size_inches(1*_CM,0.5*_CM)\n",
    "time = np.argmax(sim_longer.eccentricity)\n",
    "sideplot(sim_longer,time,\"Fig1_B_Elongation2_2\",levels=3)\n",
    "fig,ax = plt.subplots(); fig.set_size_inches(1*_CM,0.5*_CM)\n",
    "time = -1\n",
    "sideplot(sim_longer,time,\"Fig1_B_Elongation2_3\",levels=3)"
   ]
  },
  {
   "cell_type": "code",
   "execution_count": 12,
   "metadata": {},
   "outputs": [],
   "source": [
    "sim_split = simDir(\"/nfs/arupclab001/davidgoh/CoupledEPCondensates/workspace/01_Flow/20231120_FlowPhaseDiagramHighRes/M1_1.0_beta_-0.25_gamma_-0.1_kappa_0.05_kprod_0.25_c1Init_3.56_noiseVar_0.0_rxnSigma_2.5_seed_5.5_loc_10\")\n",
    "sim_split.run()\n",
    "sim_split.condensate()"
   ]
  },
  {
   "cell_type": "code",
   "execution_count": 13,
   "metadata": {},
   "outputs": [
    {
     "data": {
      "image/png": "[encoded data removed]",
      "text/plain": [
       "<Figure size 78.7402x39.3701 with 1 Axes>"
      ]
     },
     "metadata": {},
     "output_type": "display_data"
    },
    {
     "data": {
      "image/png": "[encoded data removed]",
      "text/plain": [
       "<Figure size 78.7402x39.3701 with 1 Axes>"
      ]
     },
     "metadata": {},
     "output_type": "display_data"
    },
    {
     "data": {
      "image/png": "[encoded data removed]",
      "text/plain": [
       "<Figure size 78.7402x39.3701 with 1 Axes>"
      ]
     },
     "metadata": {},
     "output_type": "display_data"
    }
   ],
   "source": [
    "fig,ax = plt.subplots(); fig.set_size_inches(1*_CM,0.5*_CM)\n",
    "time = np.argmax(sim_split.eccentricity)-9\n",
    "sideplot(sim_split,time,\"Fig1_B_Nucleation_1\",levels=3)\n",
    "fig,ax = plt.subplots(); fig.set_size_inches(1*_CM,0.5*_CM)\n",
    "time = np.argmax(sim_split.eccentricity)\n",
    "sideplot(sim_split,time,\"Fig1_B_Nucleation_2\",levels=3)\n",
    "fig,ax = plt.subplots(); fig.set_size_inches(1*_CM,0.5*_CM)\n",
    "time = -1\n",
    "sideplot(sim_split,time,\"Fig1_B_Nucleation_3\",levels=3)"
   ]
  },
  {
   "cell_type": "code",
   "execution_count": 14,
   "metadata": {},
   "outputs": [
    {
     "name": "stderr",
     "output_type": "stream",
     "text": [
      "WARNING:py.warnings:/nfs/arupclab001/davidgoh/CoupledEPCondensates/utils/analysis/tools.py:185: RuntimeWarning: invalid value encountered in divide\n",
      "  self.com = ((self.condensate_conc*self.geometry.mesh.cellVolumes)\\\n",
      "\n"
     ]
    }
   ],
   "source": [
    "sim_dissolve = simDir(\"/nfs/arupclab001/davidgoh/CoupledEPCondensates/workspace/01_Flow/20231120_FlowPhaseDiagramHighRes/M1_1.0_beta_-0.25_gamma_-0.1_kappa_0.05_kprod_0.025_c1Init_3.51_noiseVar_0.0_rxnSigma_2.5_seed_5.5_loc_10\")\n",
    "sim_dissolve.run()\n",
    "sim_dissolve.condensate()"
   ]
  },
  {
   "cell_type": "code",
   "execution_count": 15,
   "metadata": {},
   "outputs": [
    {
     "data": {
      "image/png": "[encoded data removed]",
      "text/plain": [
       "<Figure size 78.7402x39.3701 with 1 Axes>"
      ]
     },
     "metadata": {},
     "output_type": "display_data"
    },
    {
     "data": {
      "image/png": "[encoded data removed]",
      "text/plain": [
       "<Figure size 78.7402x39.3701 with 1 Axes>"
      ]
     },
     "metadata": {},
     "output_type": "display_data"
    },
    {
     "data": {
      "image/png": "[encoded data removed]",
      "text/plain": [
       "<Figure size 78.7402x39.3701 with 1 Axes>"
      ]
     },
     "metadata": {},
     "output_type": "display_data"
    }
   ],
   "source": [
    "fig,ax = plt.subplots(); fig.set_size_inches(1*_CM,0.5*_CM)\n",
    "time = 20\n",
    "sideplot(sim_dissolve,time,\"Fig1_B_Dissolution_1\",levels=3)\n",
    "fig,ax = plt.subplots(); fig.set_size_inches(1*_CM,0.5*_CM)\n",
    "time = 240\n",
    "sideplot(sim_dissolve,time,\"Fig1_B_Dissolution_2\",levels=3)\n",
    "fig,ax = plt.subplots(); fig.set_size_inches(1*_CM,0.5*_CM)\n",
    "time = -1\n",
    "sideplot(sim_dissolve,time,\"Fig1_B_Dissolution_3\",levels=3)"
   ]
  }
 ],
 "metadata": {
  "kernelspec": {
   "display_name": "CoupledEPCondensates",
   "language": "python",
   "name": "python3"
  },
  "language_info": {
   "codemirror_mode": {
    "name": "ipython",
    "version": 3
   },
   "file_extension": ".py",
   "mimetype": "text/x-python",
   "name": "python",
   "nbconvert_exporter": "python",
   "pygments_lexer": "ipython3",
   "version": "3.10.13"
  }
 },
 "nbformat": 4,
 "nbformat_minor": 2
}
