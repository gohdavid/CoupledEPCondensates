{
 "cells": [
  {
   "cell_type": "code",
   "execution_count": 6,
   "metadata": {},
   "outputs": [],
   "source": [
    "from utils import plot\n",
    "from scipy.integrate import quad\n",
    "import numpy as np\n",
    "import matplotlib.pyplot as plt\n",
    "\n",
    "fig,ax = plt.subplots()\n",
    "# Assuming <R^2> = 1 for demonstration\n",
    "count = 0\n",
    "for R2_mean in [0.5,1,2]:\n",
    "    count += 1\n",
    "    # Define the function to be integrated to find Z\n",
    "    def integrand(R):\n",
    "        return R**2 * np.exp(-3*R**2 / (2 * R2_mean))\n",
    "\n",
    "    # Compute the integral from 0 to infinity\n",
    "    Z, _ = quad(integrand, 0, np.inf)\n",
    "\n",
    "\n",
    "    import matplotlib.pyplot as plt\n",
    "\n",
    "    # Define the normalized probability distribution function\n",
    "    def normalized_P(R, Z, R2_mean):\n",
    "        return (R**2 * np.exp(-3*R**2 / (2 * R2_mean))) / Z\n",
    "\n",
    "    # Generate R values for plotting\n",
    "    R_values = np.linspace(0, 3, 400)\n",
    "\n",
    "    # Calculate the normalized probabilities\n",
    "    P_values = normalized_P(R_values, Z, R2_mean)\n",
    "\n",
    "    # Plotting\n",
    "    ax.plot(R_values, P_values,label=f\"$L_{{c,{count}}}$\")\n",
    "    ax.set_xlabel('Enhancer-promoter distance $R$')\n",
    "    ax.set_ylabel('$P(R)$')\n",
    "    ax.legend(title=\"Contour length\")\n",
    "    ax.tick_params(axis='both', which='both', bottom=False, top=False, labelbottom=False, left=False, right=False, labelleft=False)\n",
    "fig.set_size_inches(2,1)\n",
    "fig.savefig(\"distributions.png\",dpi=300,transparent=True)"
   ]
  }
 ],
 "metadata": {
  "kernelspec": {
   "display_name": "CoupledEPCondensates",
   "language": "python",
   "name": "python3"
  },
  "language_info": {
   "codemirror_mode": {
    "name": "ipython",
    "version": 3
   },
   "file_extension": ".py",
   "mimetype": "text/x-python",
   "name": "python",
   "nbconvert_exporter": "python",
   "pygments_lexer": "ipython3",
   "version": "3.10.12"
  }
 },
 "nbformat": 4,
 "nbformat_minor": 2
}
