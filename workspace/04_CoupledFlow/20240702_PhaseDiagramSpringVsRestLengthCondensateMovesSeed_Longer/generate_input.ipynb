{
 "cells": [
  {
   "cell_type": "code",
   "execution_count": 1,
   "metadata": {},
   "outputs": [],
   "source": [
    "import numpy as np"
   ]
  },
  {
   "cell_type": "code",
   "execution_count": 2,
   "metadata": {},
   "outputs": [],
   "source": [
    "for i in np.arange(0,10+0.5,0.5):\n",
    "    i = float(i)\n",
    "    append = f\"\"\"location, (({i:.2f}, 0), (0, 0))\n",
    "rest_length, ({i:.2f}, 0.0)\n",
    "well_center, ({i:.2f}, 0.0)\n",
    "    \"\"\"\n",
    "    with open(\"_input_params.txt\") as fhandle:\n",
    "        lines = fhandle.read()\n",
    "    with open(f\"input_params{i:.2g}.txt\",\"w\") as fhandle:\n",
    "        fhandle.write(lines + \"\\n\" + append)"
   ]
  },
  {
   "cell_type": "code",
   "execution_count": 3,
   "metadata": {},
   "outputs": [],
   "source": [
    "k_tilde_list = np.logspace(-2,1,10+3)\n",
    "k_tilde_str = \"k_tilde, (\" + \",\".join([f\"{i:.6g}\" for i in k_tilde_list]) + \")\\n\"\n",
    "with open(\"sweep_parameters.txt\",\"w\") as fhandle:\n",
    "    fhandle.write(k_tilde_str)"
   ]
  },
  {
   "cell_type": "code",
   "execution_count": 4,
   "metadata": {},
   "outputs": [
    {
     "data": {
      "text/plain": [
       "array([ 0.01      ,  0.01778279,  0.03162278,  0.05623413,  0.1       ,\n",
       "        0.17782794,  0.31622777,  0.56234133,  1.        ,  1.77827941,\n",
       "        3.16227766,  5.62341325, 10.        ])"
      ]
     },
     "execution_count": 4,
     "metadata": {},
     "output_type": "execute_result"
    }
   ],
   "source": [
    "k_tilde_list"
   ]
  },
  {
   "cell_type": "code",
   "execution_count": 10,
   "metadata": {},
   "outputs": [
    {
     "name": "stdout",
     "output_type": "stream",
     "text": [
      "             JOBID PARTITION     NAME     USER ST       TIME  NODES NODELIST(REASON)\n",
      "          55791261 sched_mit   tunnel davidgoh  R    3:28:08      1 node1191\n",
      "          55792130 sched_mit CoupledE davidgoh CG       5:12      1 node1192\n",
      "          55792145 sched_mit CoupledE davidgoh  R       4:58      1 node1192\n",
      "          55792138 sched_mit CoupledE davidgoh  R       6:18      1 node1192\n",
      "             JOBID PARTITION     NAME     USER ST       TIME  NODES NODELIST(REASON)\n",
      "          55791261 sched_mit   tunnel davidgoh  R    3:28:23      1 node1191\n",
      "          55792130 sched_mit CoupledE davidgoh CG       5:12      1 node1192\n",
      "          55792145 sched_mit CoupledE davidgoh  R       5:13      1 node1192\n",
      "          55792138 sched_mit CoupledE davidgoh  R       6:33      1 node1192\n"
     ]
    }
   ],
   "source": [
    "%%bash\n",
    "for f in input_params*.txt; do sweep-parameters --i $f --s sweep_parameters.txt --o $(pwd); done"
   ]
  }
 ],
 "metadata": {
  "kernelspec": {
   "display_name": "CoupledEPCondensates",
   "language": "python",
   "name": "python3"
  },
  "language_info": {
   "codemirror_mode": {
    "name": "ipython",
    "version": 3
   },
   "file_extension": ".py",
   "mimetype": "text/x-python",
   "name": "python",
   "nbconvert_exporter": "python",
   "pygments_lexer": "ipython3",
   "version": "3.10.12"
  }
 },
 "nbformat": 4,
 "nbformat_minor": 2
}
