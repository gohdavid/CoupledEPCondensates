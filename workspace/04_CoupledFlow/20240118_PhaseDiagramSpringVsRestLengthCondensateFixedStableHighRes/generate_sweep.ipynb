{
 "cells": [
  {
   "cell_type": "code",
   "execution_count": 1,
   "metadata": {},
   "outputs": [],
   "source": [
    "import numpy as np"
   ]
  },
  {
   "cell_type": "code",
   "execution_count": 14,
   "metadata": {},
   "outputs": [],
   "source": [
    "rest_length_list = np.arange(0,10+0.5,0.5)\n",
    "k_tilde_list = np.logspace(-2,0,9)"
   ]
  },
  {
   "cell_type": "code",
   "execution_count": 32,
   "metadata": {},
   "outputs": [],
   "source": [
    "rest_length_str = \"rest_length, (\" + \",\".join([f\"({i:.2g},0.0)\" for i in rest_length_list]) + \")\\n\"\n",
    "k_tilde_str = \"k_tilde, (\" + \",\".join([f\"{i:.2g}\" for i in k_tilde_list]) + \")\\n\""
   ]
  },
  {
   "cell_type": "code",
   "execution_count": 33,
   "metadata": {},
   "outputs": [],
   "source": [
    "with open(\"sweep_parameters.txt\",\"w\") as fhandle:\n",
    "    fhandle.write(rest_length_str + k_tilde_str)"
   ]
  }
 ],
 "metadata": {
  "kernelspec": {
   "display_name": "CoupledEPCondensates",
   "language": "python",
   "name": "python3"
  },
  "language_info": {
   "codemirror_mode": {
    "name": "ipython",
    "version": 3
   },
   "file_extension": ".py",
   "mimetype": "text/x-python",
   "name": "python",
   "nbconvert_exporter": "python",
   "pygments_lexer": "ipython3",
   "version": "3.10.12"
  }
 },
 "nbformat": 4,
 "nbformat_minor": 2
}
