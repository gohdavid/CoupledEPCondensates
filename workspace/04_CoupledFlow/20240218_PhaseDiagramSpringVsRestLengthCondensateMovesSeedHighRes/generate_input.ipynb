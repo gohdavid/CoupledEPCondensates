{
 "cells": [
  {
   "cell_type": "code",
   "execution_count": 1,
   "metadata": {},
   "outputs": [],
   "source": [
    "import numpy as np"
   ]
  },
  {
   "cell_type": "code",
   "execution_count": 3,
   "metadata": {},
   "outputs": [],
   "source": [
    "for i in np.arange(7.0,9.4+0.1,0.1):\n",
    "    i = float(i)\n",
    "    append = f\"\"\"location, (({i:.2f}, 0), (0, 0))\n",
    "rest_length, ({i:.2f}, 0.0)\n",
    "well_center, ({i:.2f}, 0.0)\n",
    "    \"\"\"\n",
    "    with open(\"_input_params.txt\") as fhandle:\n",
    "        lines = fhandle.read()\n",
    "    with open(f\"input_params{i:.2g}.txt\",\"w\") as fhandle:\n",
    "        fhandle.write(lines + \"\\n\" + append)"
   ]
  },
  {
   "cell_type": "code",
   "execution_count": 4,
   "metadata": {},
   "outputs": [
    {
     "data": {
      "text/plain": [
       "242"
      ]
     },
     "execution_count": 4,
     "metadata": {},
     "output_type": "execute_result"
    }
   ],
   "source": [
    "len(np.arange(9,10+0.1,0.1))*len(np.logspace(-2,1,10+3*4))"
   ]
  },
  {
   "cell_type": "code",
   "execution_count": 5,
   "metadata": {},
   "outputs": [],
   "source": [
    "k_tilde_list = np.logspace(-2,1,10+3*4)\n",
    "k_tilde_str = \"k_tilde, (\" + \",\".join([f\"{i:.6g}\" for i in k_tilde_list]) + \")\\n\"\n",
    "with open(\"sweep_parameters.txt\",\"w\") as fhandle:\n",
    "    fhandle.write(k_tilde_str)"
   ]
  }
 ],
 "metadata": {
  "kernelspec": {
   "display_name": "CoupledEPCondensates",
   "language": "python",
   "name": "python3"
  },
  "language_info": {
   "codemirror_mode": {
    "name": "ipython",
    "version": 3
   },
   "file_extension": ".py",
   "mimetype": "text/x-python",
   "name": "python",
   "nbconvert_exporter": "python",
   "pygments_lexer": "ipython3",
   "version": "3.10.12"
  }
 },
 "nbformat": 4,
 "nbformat_minor": 2
}
