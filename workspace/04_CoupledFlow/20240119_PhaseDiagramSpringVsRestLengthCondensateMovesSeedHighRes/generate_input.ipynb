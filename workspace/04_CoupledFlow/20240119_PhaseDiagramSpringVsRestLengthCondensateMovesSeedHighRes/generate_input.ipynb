{
 "cells": [
  {
   "cell_type": "code",
   "execution_count": 7,
   "metadata": {},
   "outputs": [],
   "source": [
    "import numpy as np\n",
    "rest_length_list = np.arange(0,10+0.5,0.5)\n",
    "k_tilde_list = np.logspace(-2,0,9)\n",
    "\n",
    "for i in rest_length_list:\n",
    "    append = f\"\"\"location, (({i:.2g}, 0), (0, 0))\n",
    "rest_length, ({i:.2g}, 0.0)\n",
    "well_center, ({i:.2g}, 0.0)\n",
    "    \"\"\"\n",
    "    with open(\"_input_params.txt\") as fhandle:\n",
    "        lines = fhandle.read()\n",
    "    with open(f\"input_params{i:.1f}.txt\",\"w\") as fhandle:\n",
    "        fhandle.write(lines + \"\\n\" + append)"
   ]
  },
  {
   "cell_type": "code",
   "execution_count": 5,
   "metadata": {},
   "outputs": [],
   "source": [
    "k_tilde_str = \"k_tilde, (\" + \",\".join([f\"{i:.2g}\" for i in k_tilde_list]) + \")\\n\"\n",
    "with open(\"sweep_parameters.txt\",\"w\") as fhandle:\n",
    "    fhandle.write(k_tilde_str)"
   ]
  }
 ],
 "metadata": {
  "kernelspec": {
   "display_name": "CoupledEPCondensates",
   "language": "python",
   "name": "python3"
  },
  "language_info": {
   "codemirror_mode": {
    "name": "ipython",
    "version": 3
   },
   "file_extension": ".py",
   "mimetype": "text/x-python",
   "name": "python",
   "nbconvert_exporter": "python",
   "pygments_lexer": "ipython3",
   "version": "3.10.12"
  }
 },
 "nbformat": 4,
 "nbformat_minor": 2
}
