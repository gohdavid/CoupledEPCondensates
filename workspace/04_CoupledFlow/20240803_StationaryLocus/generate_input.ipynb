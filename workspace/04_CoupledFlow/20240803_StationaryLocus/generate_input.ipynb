{
 "cells": [
  {
   "cell_type": "code",
   "execution_count": 1,
   "metadata": {},
   "outputs": [],
   "source": [
    "import numpy as np"
   ]
  },
  {
   "cell_type": "code",
   "execution_count": 2,
   "metadata": {},
   "outputs": [],
   "source": [
    "for i in array = np.arange(0, 10.5, 0.5):\n",
    "    i = float(i)\n",
    "    append = f\"\"\"location, (({i:.2f}, 0), (0, 0))\n",
    "rest_length, ({i:.2f}, 0.0)\n",
    "well_center, ({i:.2f}, 0.0)\n",
    "    \"\"\"\n",
    "    with open(\"_input_params.txt\") as fhandle:\n",
    "        lines = fhandle.read()\n",
    "    with open(f\"input_params{i:.2g}.txt\",\"w\") as fhandle:\n",
    "        fhandle.write(lines + \"\\n\" + append)"
   ]
  }
 ],
 "metadata": {
  "kernelspec": {
   "display_name": "CoupledEPCondensates",
   "language": "python",
   "name": "python3"
  },
  "language_info": {
   "codemirror_mode": {
    "name": "ipython",
    "version": 3
   },
   "file_extension": ".py",
   "mimetype": "text/x-python",
   "name": "python",
   "nbconvert_exporter": "python",
   "pygments_lexer": "ipython3",
   "version": "3.10.13"
  }
 },
 "nbformat": 4,
 "nbformat_minor": 2
}
