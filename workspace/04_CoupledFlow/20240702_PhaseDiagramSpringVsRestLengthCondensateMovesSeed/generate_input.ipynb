{
 "cells": [
  {
   "cell_type": "code",
   "execution_count": 1,
   "metadata": {},
   "outputs": [],
   "source": [
    "import numpy as np"
   ]
  },
  {
   "cell_type": "code",
   "execution_count": 2,
   "metadata": {},
   "outputs": [],
   "source": [
    "for i in np.arange(0,10+0.5,0.5):\n",
    "    i = float(i)\n",
    "    append = f\"\"\"location, (({i:.2f}, 0), (0, 0))\n",
    "rest_length, ({i:.2f}, 0.0)\n",
    "well_center, ({i:.2f}, 0.0)\n",
    "    \"\"\"\n",
    "    with open(\"_input_params.txt\") as fhandle:\n",
    "        lines = fhandle.read()\n",
    "    with open(f\"input_params{i:.2g}.txt\",\"w\") as fhandle:\n",
    "        fhandle.write(lines + \"\\n\" + append)"
   ]
  },
  {
   "cell_type": "code",
   "execution_count": 12,
   "metadata": {},
   "outputs": [],
   "source": [
    "k_tilde_list = np.logspace(-2,1,10+3)\n",
    "k_tilde_str = \"k_tilde, (\" + \",\".join([f\"{i:.6g}\" for i in k_tilde_list]) + \")\\n\"\n",
    "with open(\"sweep_parameters.txt\",\"w\") as fhandle:\n",
    "    fhandle.write(k_tilde_str)"
   ]
  },
  {
   "cell_type": "code",
   "execution_count": 11,
   "metadata": {},
   "outputs": [
    {
     "data": {
      "text/plain": [
       "array([ 0.01      ,  0.01778279,  0.03162278,  0.05623413,  0.1       ,\n",
       "        0.17782794,  0.31622777,  0.56234133,  1.        ,  1.77827941,\n",
       "        3.16227766,  5.62341325, 10.        ])"
      ]
     },
     "execution_count": 11,
     "metadata": {},
     "output_type": "execute_result"
    }
   ],
   "source": [
    "k_tilde_list"
   ]
  }
 ],
 "metadata": {
  "kernelspec": {
   "display_name": "CoupledEPCondensates",
   "language": "python",
   "name": "python3"
  },
  "language_info": {
   "codemirror_mode": {
    "name": "ipython",
    "version": 3
   },
   "file_extension": ".py",
   "mimetype": "text/x-python",
   "name": "python",
   "nbconvert_exporter": "python",
   "pygments_lexer": "ipython3",
   "version": "3.10.13"
  }
 },
 "nbformat": 4,
 "nbformat_minor": 2
}
