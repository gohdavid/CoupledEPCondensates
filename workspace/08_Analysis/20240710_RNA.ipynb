{
 "cells": [
  {
   "cell_type": "code",
   "execution_count": null,
   "metadata": {},
   "outputs": [],
   "source": [
    "from utils.analysis.tools import simDir\n",
    "import numpy as np\n",
    "import matplotlib.pyplot as plt\n",
    "from matplotlib.colors import LinearSegmentedColormap\n",
    "import matplotlib.pylab as pl\n",
    "import matplotlib"
   ]
  },
  {
   "cell_type": "code",
   "execution_count": null,
   "metadata": {},
   "outputs": [],
   "source": [
    "sim = simDir(\"/nfs/arupclab001/davidgoh/CoupledEPCondensates/workspace/08_FreezeRNA/Shorter/M1_1.0_b_-0.25_g_-0.1_c_0.0_k_0.05_kp_0.1_c1_3.52_sw_1.0_sr_2.5_cn_5.5_l_10_M3_0.1_kt_0.0_rl_0.0_wd_0.0_t_6000.0_kd_1.0\")"
   ]
  },
  {
   "cell_type": "code",
   "execution_count": null,
   "metadata": {},
   "outputs": [],
   "source": [
    "sim.run()\n",
    "sim.condensate()\n",
    "sim.rna()"
   ]
  },
  {
   "cell_type": "code",
   "execution_count": null,
   "metadata": {},
   "outputs": [],
   "source": [
    "def frameFigure(sim,\n",
    "                i:int,\n",
    "                t:int,\n",
    "                cmap=None):\n",
    "    cmap = cmap or sim.movie_params['color_map'][i]\n",
    "    fig,ax = plt.subplots()\n",
    "    cs = ax.tricontourf(sim.geometry.mesh.x,\n",
    "                        sim.geometry.mesh.y,\n",
    "                        sim.concentration_profile[i][t],\n",
    "                        levels = np.linspace(int(np.floor(sim.plotting_range[i][0]*100))/100,\n",
    "                                                int(np.ceil(sim.plotting_range[i][1]*100))/100,\n",
    "                                                256),\n",
    "                        cmap=cmap)\n",
    "    ax.autoscale_view()\n",
    "    ax.xaxis.set_tick_params(labelbottom=False, bottom=False)\n",
    "    ax.yaxis.set_tick_params(labelleft=False, left=False)\n",
    "    ax.set_aspect('equal', 'box')\n",
    "    plt.setp(ax.spines.values(), visible=False)\n",
    "    return fig,ax"
   ]
  },
  {
   "cell_type": "code",
   "execution_count": null,
   "metadata": {},
   "outputs": [],
   "source": [
    "ncolors = 256\n",
    "color_array = plt.get_cmap('Reds')(range(ncolors))\n",
    "\n",
    "# change alpha values\n",
    "color_array[:, -1] = np.linspace(0.0, 1.0, ncolors)\n",
    "\n",
    "# create a new colormap with the modified color array\n",
    "map_object = LinearSegmentedColormap.from_list(name='Reds_alpha', colors=color_array)\n",
    "\n",
    "# register the new colormap\n",
    "matplotlib.colormaps.register(cmap=map_object)"
   ]
  },
  {
   "cell_type": "code",
   "execution_count": null,
   "metadata": {},
   "outputs": [],
   "source": [
    "fig, ax = frameFigure(sim,1,-1,cmap=\"Reds_alpha\")\n",
    "fig.savefig(\"rnafixed.pdf\",dpi=300)"
   ]
  },
  {
   "cell_type": "code",
   "execution_count": null,
   "metadata": {},
   "outputs": [],
   "source": [
    "m = sim.concentration_profile[1][-1,:]\n",
    "c = sim.concentration_profile[0][-1,:]"
   ]
  },
  {
   "cell_type": "code",
   "execution_count": null,
   "metadata": {},
   "outputs": [],
   "source": [
    "fig, ax = plt.subplots()\n",
    "x = sim.xy[:,0]\n",
    "y = sim.xy[:,1]\n",
    "r = np.sqrt(x**2+y**2)\n",
    "ax.scatter(r,m)"
   ]
  },
  {
   "cell_type": "code",
   "execution_count": null,
   "metadata": {},
   "outputs": [],
   "source": [
    "RNA = np.vstack([r,m]).T"
   ]
  },
  {
   "cell_type": "code",
   "execution_count": null,
   "metadata": {},
   "outputs": [],
   "source": [
    "np.savetxt(\"RNA.csv\", RNA, delimiter=\",\")"
   ]
  },
  {
   "cell_type": "code",
   "execution_count": null,
   "metadata": {},
   "outputs": [],
   "source": [
    "c = sim.concentration_profile[0][-1,:]"
   ]
  }
 ],
 "metadata": {
  "kernelspec": {
   "display_name": "CoupledEPCondensates",
   "language": "python",
   "name": "python3"
  },
  "language_info": {
   "codemirror_mode": {
    "name": "ipython",
    "version": 3
   },
   "file_extension": ".py",
   "mimetype": "text/x-python",
   "name": "python",
   "nbconvert_exporter": "python",
   "pygments_lexer": "ipython3",
   "version": "3.10.15"
  }
 },
 "nbformat": 4,
 "nbformat_minor": 2
}
