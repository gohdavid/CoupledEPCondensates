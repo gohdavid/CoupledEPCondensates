{
 "cells": [
  {
   "cell_type": "code",
   "execution_count": 1,
   "metadata": {},
   "outputs": [],
   "source": [
    "import matplotlib as mpl\n",
    "import matplotlib.pyplot as plt\n",
    "import numpy as np"
   ]
  },
  {
   "cell_type": "code",
   "execution_count": 2,
   "metadata": {},
   "outputs": [],
   "source": [
    "CM = 1/2.54  # inch per cm\n",
    "\n",
    "def rcparams():\n",
    "    mpl.style.use('default')\n",
    "    plt.rcParams.update({\n",
    "        'savefig.format': 'pdf',\n",
    "\n",
    "        'font.size': 8,\n",
    "        'font.family': 'sans-serif',\n",
    "        'font.sans-serif': 'Helvetica',\n",
    "        'pdf.fonttype': 42,\n",
    "        'ps.fonttype': 42,\n",
    "        'text.usetex': False,\n",
    "        \n",
    "        'lines.linewidth': 1.5,\n",
    "        \n",
    "        'xtick.direction': 'out',\n",
    "        'xtick.top': False,\n",
    "        'xtick.bottom': True,\n",
    "        'xtick.minor.visible': False,\n",
    "        'xtick.labelsize': 8,\n",
    "        'xtick.minor.size': 2,\n",
    "        'xtick.minor.width': 0.5,\n",
    "        'xtick.major.pad': 3,\n",
    "        'xtick.major.size': 3,\n",
    "        'xtick.major.width': 1,\n",
    "        \n",
    "        'ytick.direction': 'out',\n",
    "        'ytick.right': False,\n",
    "        'ytick.left': True,\n",
    "        'ytick.minor.visible': False,\n",
    "        'ytick.labelsize': 8,\n",
    "        'ytick.direction': 'out',\n",
    "        'ytick.minor.size': 2,\n",
    "        'ytick.minor.width': 0.5,\n",
    "        'ytick.major.pad': 3,\n",
    "        'ytick.major.size': 3,\n",
    "        'ytick.major.width': 1,\n",
    "\n",
    "        'axes.grid': False,\n",
    "        'axes.edgecolor': 'black',\n",
    "        'axes.facecolor': 'white',\n",
    "        'axes.spines.right': False,\n",
    "        'axes.spines.top': False,\n",
    "        'axes.titlesize': 8,\n",
    "        'axes.titlepad': 5,\n",
    "        'axes.labelsize': 8,\n",
    "        'axes.linewidth': 1,\n",
    "        \n",
    "        'legend.fontsize': 8,\n",
    "        \n",
    "        'figure.facecolor': 'white',\n",
    "        'figure.dpi': 100,\n",
    "        \n",
    "        'savefig.transparent': True\n",
    "    })\n",
    "\n",
    "rcparams()"
   ]
  },
  {
   "cell_type": "code",
   "execution_count": 26,
   "metadata": {},
   "outputs": [],
   "source": [
    "hill = lambda x: 17.5*(x-3)**2/((x-3)**2+1**2)"
   ]
  },
  {
   "cell_type": "code",
   "execution_count": 25,
   "metadata": {},
   "outputs": [
    {
     "name": "stderr",
     "output_type": "stream",
     "text": [
      "1 extra bytes in post.stringData array\n",
      "'created' timestamp seems very low; regarding as unix timestamp\n",
      "Zapf NOT subset; don't know how to subset; dropped\n",
      "feat NOT subset; don't know how to subset; dropped\n",
      "morx NOT subset; don't know how to subset; dropped\n"
     ]
    },
    {
     "data": {
      "image/png": "[encoded data removed]",
      "text/plain": [
       "<Figure size 335x167.5 with 1 Axes>"
      ]
     },
     "metadata": {},
     "output_type": "display_data"
    }
   ],
   "source": [
    "arr = np.linspace(3,5)\n",
    "\n",
    "fig, ax = plt.subplots(figsize=(3.35,3.35/2))\n",
    "ax.set_xlabel(r\"$c(\\boldsymbol{r},t)$\")\n",
    "ax.set_ylabel(r\"RNA production / $k_p(\\boldsymbol{r})$\")\n",
    "ax.plot(arr,arr,color=\"black\",label=r\"$c$\")\n",
    "ax.plot(arr,hill(arr),label=r\"$f_+(c)$\")\n",
    "ax.legend()\n",
    "ax.axvline([3.5],color=\"grey\",linestyle=\"dashed\")\n",
    "ax.axvline([4.5],color=\"grey\",linestyle=\"dashed\")\n",
    "plt.savefig(\"SI_Hill.pdf\",bbox_inches=\"tight\")"
   ]
  },
  {
   "cell_type": "code",
   "execution_count": 28,
   "metadata": {},
   "outputs": [
    {
     "data": {
      "text/plain": [
       "3.4615384615384612"
      ]
     },
     "execution_count": 28,
     "metadata": {},
     "output_type": "execute_result"
    }
   ],
   "source": [
    "hill(4.5)/hill(3.5)"
   ]
  }
 ],
 "metadata": {
  "kernelspec": {
   "display_name": "condensates",
   "language": "python",
   "name": "python3"
  },
  "language_info": {
   "codemirror_mode": {
    "name": "ipython",
    "version": 3
   },
   "file_extension": ".py",
   "mimetype": "text/x-python",
   "name": "python",
   "nbconvert_exporter": "python",
   "pygments_lexer": "ipython3",
   "version": "3.12.4"
  }
 },
 "nbformat": 4,
 "nbformat_minor": 2
}
